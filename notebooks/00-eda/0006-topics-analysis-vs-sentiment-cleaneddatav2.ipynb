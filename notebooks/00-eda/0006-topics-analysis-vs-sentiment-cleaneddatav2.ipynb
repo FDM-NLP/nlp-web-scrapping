{
 "cells": [
  {
   "cell_type": "markdown",
   "metadata": {},
   "source": [
    "# Contents"
   ]
  },
  {
   "cell_type": "markdown",
   "metadata": {},
   "source": [
    "* Probability distributions seems to discern a bit. \n",
    "* There are some small overlapings could be due to the number of topics choseen .\n",
    "* Not sure whether word embedings can perform well on our \"two short\" sentences. \n",
    "* Looking at the topics seem common words appear across al topics and just one or two differ"
   ]
  },
  {
   "cell_type": "markdown",
   "metadata": {},
   "source": [
    "# Setup"
   ]
  },
  {
   "cell_type": "code",
   "execution_count": 1,
   "metadata": {},
   "outputs": [],
   "source": [
    "import re\n",
    "from collections import Counter\n",
    "import pandas as pd\n",
    "import numpy as np\n",
    "import gensim\n",
    "from gensim.models.ldamulticore import LdaMulticore\n",
    "import nltk\n",
    "import matplotlib.pyplot as plt"
   ]
  },
  {
   "cell_type": "markdown",
   "metadata": {},
   "source": [
    "# Raw dataset"
   ]
  },
  {
   "cell_type": "code",
   "execution_count": 2,
   "metadata": {},
   "outputs": [],
   "source": [
    "data = pd.read_csv('../../data/processed/cleanedDataV2.csv')"
   ]
  },
  {
   "cell_type": "code",
   "execution_count": 3,
   "metadata": {},
   "outputs": [
    {
     "data": {
      "text/html": [
       "<div>\n",
       "<style scoped>\n",
       "    .dataframe tbody tr th:only-of-type {\n",
       "        vertical-align: middle;\n",
       "    }\n",
       "\n",
       "    .dataframe tbody tr th {\n",
       "        vertical-align: top;\n",
       "    }\n",
       "\n",
       "    .dataframe thead th {\n",
       "        text-align: right;\n",
       "    }\n",
       "</style>\n",
       "<table border=\"1\" class=\"dataframe\">\n",
       "  <thead>\n",
       "    <tr style=\"text-align: right;\">\n",
       "      <th></th>\n",
       "      <th>textID</th>\n",
       "      <th>text</th>\n",
       "      <th>sentiment</th>\n",
       "    </tr>\n",
       "  </thead>\n",
       "  <tbody>\n",
       "    <tr>\n",
       "      <th>0</th>\n",
       "      <td>cb774db0d1</td>\n",
       "      <td>['respond', 'go']</td>\n",
       "      <td>neutral</td>\n",
       "    </tr>\n",
       "    <tr>\n",
       "      <th>1</th>\n",
       "      <td>549e992a42</td>\n",
       "      <td>['sad', 'miss']</td>\n",
       "      <td>negative</td>\n",
       "    </tr>\n",
       "    <tr>\n",
       "      <th>2</th>\n",
       "      <td>088c60f138</td>\n",
       "      <td>['boss', 'bully']</td>\n",
       "      <td>negative</td>\n",
       "    </tr>\n",
       "    <tr>\n",
       "      <th>3</th>\n",
       "      <td>9642c003ef</td>\n",
       "      <td>['interview', 'leave', 'alone']</td>\n",
       "      <td>negative</td>\n",
       "    </tr>\n",
       "    <tr>\n",
       "      <th>4</th>\n",
       "      <td>358bd9e861</td>\n",
       "      <td>['son', 'put', 'release', 'already', 'buy']</td>\n",
       "      <td>negative</td>\n",
       "    </tr>\n",
       "  </tbody>\n",
       "</table>\n",
       "</div>"
      ],
      "text/plain": [
       "       textID                                         text sentiment\n",
       "0  cb774db0d1                            ['respond', 'go']   neutral\n",
       "1  549e992a42                              ['sad', 'miss']  negative\n",
       "2  088c60f138                            ['boss', 'bully']  negative\n",
       "3  9642c003ef              ['interview', 'leave', 'alone']  negative\n",
       "4  358bd9e861  ['son', 'put', 'release', 'already', 'buy']  negative"
      ]
     },
     "execution_count": 3,
     "metadata": {},
     "output_type": "execute_result"
    }
   ],
   "source": [
    "data.head()"
   ]
  },
  {
   "cell_type": "code",
   "execution_count": 4,
   "metadata": {},
   "outputs": [],
   "source": [
    "data = data.dropna().reset_index()"
   ]
  },
  {
   "cell_type": "code",
   "execution_count": 5,
   "metadata": {},
   "outputs": [
    {
     "data": {
      "text/plain": [
       "index        0\n",
       "textID       0\n",
       "text         0\n",
       "sentiment    0\n",
       "dtype: int64"
      ]
     },
     "execution_count": 5,
     "metadata": {},
     "output_type": "execute_result"
    }
   ],
   "source": [
    "data.isnull().sum()"
   ]
  },
  {
   "cell_type": "markdown",
   "metadata": {},
   "source": [
    "# Parse data"
   ]
  },
  {
   "cell_type": "code",
   "execution_count": 6,
   "metadata": {},
   "outputs": [],
   "source": [
    "#Convert list of tokens to string\n",
    "list_corpus = []\n",
    "for sentence in data['text']:\n",
    "    tokens = sentence.replace(\"[\",\"\").replace(\"]\",\"\").replace(\"'\",\"\").replace(\",\",\"\")\n",
    "    list_corpus.append(tokens)\n",
    "data['text'] = list_corpus"
   ]
  },
  {
   "cell_type": "code",
   "execution_count": 7,
   "metadata": {},
   "outputs": [],
   "source": [
    "data['text'] = data.text.apply(lambda x: x.split(' '))"
   ]
  },
  {
   "cell_type": "markdown",
   "metadata": {},
   "source": [
    "## Vectorize words"
   ]
  },
  {
   "cell_type": "code",
   "execution_count": 8,
   "metadata": {},
   "outputs": [
    {
     "name": "stdout",
     "output_type": "stream",
     "text": [
      "Dictionary(9652 unique tokens: ['go', 'respond', 'miss', 'sad', 'boss']...)\n"
     ]
    }
   ],
   "source": [
    "dictionary = gensim.corpora.Dictionary(data['text'])\n",
    "print(dictionary)"
   ]
  },
  {
   "cell_type": "code",
   "execution_count": 9,
   "metadata": {},
   "outputs": [
    {
     "name": "stdout",
     "output_type": "stream",
     "text": [
      "Left with 4116 words.\n"
     ]
    }
   ],
   "source": [
    "dictionary.filter_extremes(no_above=0.8, no_below=3)\n",
    "dictionary.compactify()  # Reindexes the remaining words after filtering\n",
    "print(\"Left with {} words.\".format(len(dictionary.values())))"
   ]
  },
  {
   "cell_type": "code",
   "execution_count": 10,
   "metadata": {},
   "outputs": [],
   "source": [
    "#Make a BOW for every document\n",
    "def document_to_bow(df):\n",
    "    df['bow'] = list(map(lambda doc: dictionary.doc2bow(doc), df.text))\n",
    "    \n",
    "document_to_bow(data)"
   ]
  },
  {
   "cell_type": "markdown",
   "metadata": {},
   "source": [
    "## LDA (training)"
   ]
  },
  {
   "cell_type": "code",
   "execution_count": 11,
   "metadata": {},
   "outputs": [
    {
     "name": "stdout",
     "output_type": "stream",
     "text": [
      "Wall time: 1min 14s\n"
     ]
    }
   ],
   "source": [
    "%%time\n",
    "num_topics = 100\n",
    "#A multicore approach to decrease training time\n",
    "LDAmodel = LdaMulticore(corpus=data.bow,\n",
    "                        id2word=dictionary,\n",
    "                        num_topics=num_topics,\n",
    "                        workers=4,\n",
    "                        chunksize=2000,\n",
    "                        passes=7,\n",
    "                        alpha='asymmetric')"
   ]
  },
  {
   "cell_type": "markdown",
   "metadata": {},
   "source": [
    "# LDA topic inspection"
   ]
  },
  {
   "cell_type": "code",
   "execution_count": 12,
   "metadata": {},
   "outputs": [],
   "source": [
    "def document_to_lda_features(lda_model, document):\n",
    "    topic_importances = LDAmodel.get_document_topics(document, minimum_probability=0)\n",
    "    topic_importances = np.array(topic_importances)\n",
    "    return topic_importances[:,1]\n",
    "\n",
    "data['lda_features'] = list(map(\n",
    "    lambda doc: document_to_lda_features(LDAmodel, doc),\n",
    "    data.bow))"
   ]
  },
  {
   "cell_type": "markdown",
   "metadata": {},
   "source": [
    "## Topics distribution"
   ]
  },
  {
   "cell_type": "code",
   "execution_count": 13,
   "metadata": {},
   "outputs": [],
   "source": [
    "pos_topic_distribution = data.loc[data.sentiment == 'positive', 'lda_features'].mean()\n",
    "neg_topic_distribution = data.loc[data.sentiment == 'negative', 'lda_features'].mean()\n",
    "neu_topic_distribution = data.loc[data.sentiment == 'neutral', 'lda_features'].mean()"
   ]
  },
  {
   "cell_type": "code",
   "execution_count": 14,
   "metadata": {},
   "outputs": [
    {
     "data": {
      "image/png": "[encoded data removed]",
      "text/plain": [
       "<Figure size 1440x1080 with 3 Axes>"
      ]
     },
     "metadata": {
      "needs_background": "light"
     },
     "output_type": "display_data"
    }
   ],
   "source": [
    "fig, [ax1,ax2,ax3] = plt.subplots(3,1,figsize=(20,15))\n",
    "\n",
    "nr_top_bars = 5\n",
    "\n",
    "ax1.set_title(\"Pos sentiment distributions\", fontsize=16)\n",
    "ax2.set_title(\"Neg sentiment distributions\", fontsize=16)\n",
    "ax3.set_title(\"Neu sentiment distributions\", fontsize=16)\n",
    "ax3.text(-10, 0.04, \"Average Probability of Topic\", fontsize=30, ha=\"center\", va=\"center\",\n",
    "         rotation=\"vertical\")\n",
    "\n",
    "for ax, distribution, color in zip([ax1,ax2,ax3],\n",
    "                                   [pos_topic_distribution,neg_topic_distribution,neu_topic_distribution],\n",
    "                                   ['b','g','r']):\n",
    "    # Individual distribution barplots\n",
    "    ax.bar(range(len(distribution)), distribution, alpha=0.7)\n",
    "    rects = ax.patches\n",
    "    for i in np.argsort(distribution)[-nr_top_bars:]:\n",
    "        rects[i].set_color(color)\n",
    "        rects[i].set_alpha(1)\n",
    "    # General plotting adjustments\n",
    "    ax.set_xlim(-1, 50)\n",
    "    ax.set_xticks(range(0,101,5))\n",
    "    ax.set_xticklabels(range(0,101,5), fontsize=16)\n",
    "    ax.set_ylim(0,0.09)\n",
    "    ax.set_yticks([0,0.045,0.09])\n",
    "    ax.set_yticklabels([0,0.045,0.09], fontsize=16)\n",
    "\n",
    "fig.tight_layout(h_pad=3.)\n"
   ]
  },
  {
   "cell_type": "markdown",
   "metadata": {},
   "source": [
    "# Printing topics found"
   ]
  },
  {
   "cell_type": "code",
   "execution_count": 15,
   "metadata": {},
   "outputs": [
    {
     "name": "stdout",
     "output_type": "stream",
     "text": [
      "0: 0.072*\"get\" + 0.022*\"love\" + 0.017*\"fire\" + 0.014*\"time\" + 0.014*\"like\" + 0.013*\"go\" + 0.013*\"think\" + 0.012*\"cooky\" + 0.012*\"tree\" + 0.012*\"awe\"\n",
      "\n",
      "1: 0.045*\"not\" + 0.027*\"get\" + 0.026*\"wheres\" + 0.023*\"marry\" + 0.019*\"lately\" + 0.016*\"offer\" + 0.014*\"still\" + 0.013*\"hr\" + 0.012*\"love\" + 0.012*\"geek\"\n",
      "\n",
      "2: 0.033*\"think\" + 0.025*\"vacation\" + 0.020*\"blast\" + 0.019*\"wit\" + 0.017*\"shout\" + 0.014*\"idiot\" + 0.013*\"bay\" + 0.013*\"official\" + 0.012*\"not\" + 0.012*\"conference\"\n",
      "\n",
      "3: 0.048*\"english\" + 0.026*\"get\" + 0.020*\"well\" + 0.019*\"like\" + 0.019*\"pleasure\" + 0.018*\"migraine\" + 0.018*\"fabulous\" + 0.016*\"within\" + 0.016*\"smart\" + 0.015*\"hurry\"\n",
      "\n",
      "4: 0.045*\"burn\" + 0.028*\"not\" + 0.022*\"bathroom\" + 0.021*\"bio\" + 0.019*\"attack\" + 0.019*\"fancy\" + 0.019*\"ace\" + 0.018*\"angry\" + 0.016*\"prefer\" + 0.016*\"science\"\n",
      "\n",
      "5: 0.040*\"low\" + 0.034*\"french\" + 0.031*\"jay\" + 0.031*\"sexy\" + 0.027*\"sunburn\" + 0.026*\"not\" + 0.025*\"access\" + 0.025*\"slightly\" + 0.022*\"like\" + 0.020*\"lack\"\n",
      "\n",
      "6: 0.052*\"etc\" + 0.047*\"congratulation\" + 0.039*\"exhaust\" + 0.036*\"currently\" + 0.031*\"strange\" + 0.029*\"sims\" + 0.027*\"earth\" + 0.026*\"spring\" + 0.026*\"practice\" + 0.026*\"theatre\"\n",
      "\n",
      "7: 0.039*\"round\" + 0.029*\"afraid\" + 0.029*\"folk\" + 0.024*\"choice\" + 0.019*\"good\" + 0.019*\"rice\" + 0.018*\"not\" + 0.018*\"several\" + 0.018*\"eff\" + 0.018*\"realise\"\n",
      "\n",
      "8: 0.046*\"yup\" + 0.042*\"get\" + 0.040*\"daddy\" + 0.029*\"push\" + 0.027*\"rid\" + 0.025*\"refuse\" + 0.023*\"wee\" + 0.022*\"crave\" + 0.022*\"honestly\" + 0.022*\"anywhere\"\n",
      "\n",
      "9: 0.067*\"jealous\" + 0.053*\"inside\" + 0.034*\"deserve\" + 0.029*\"five\" + 0.029*\"nail\" + 0.029*\"wat\" + 0.028*\"article\" + 0.025*\"toy\" + 0.022*\"get\" + 0.021*\"gosh\"\n",
      "\n",
      "10: 0.066*\"account\" + 0.037*\"lame\" + 0.032*\"art\" + 0.032*\"view\" + 0.032*\"dunno\" + 0.029*\"random\" + 0.029*\"blah\" + 0.029*\"darn\" + 0.025*\"husband\" + 0.021*\"click\"\n",
      "\n",
      "11: 0.286*\"great\" + 0.177*\"love\" + 0.029*\"bum\" + 0.025*\"time\" + 0.022*\"kiss\" + 0.018*\"tummy\" + 0.017*\"joy\" + 0.017*\"ring\" + 0.014*\"ben\" + 0.014*\"see\"\n",
      "\n",
      "12: 0.157*\"anyone\" + 0.042*\"door\" + 0.036*\"history\" + 0.028*\"simple\" + 0.027*\"teacher\" + 0.025*\"make\" + 0.024*\"know\" + 0.023*\"hoo\" + 0.021*\"go\" + 0.020*\"caught\"\n",
      "\n",
      "13: 0.114*\"believe\" + 0.073*\"cant\" + 0.056*\"chocolate\" + 0.046*\"warm\" + 0.045*\"order\" + 0.037*\"lonely\" + 0.032*\"cancel\" + 0.031*\"speak\" + 0.025*\"2nd\" + 0.025*\"nobody\"\n",
      "\n",
      "14: 0.063*\"camera\" + 0.049*\"mate\" + 0.040*\"act\" + 0.038*\"def\" + 0.038*\"longer\" + 0.032*\"get\" + 0.026*\"score\" + 0.024*\"nut\" + 0.023*\"tease\" + 0.022*\"need\"\n",
      "\n",
      "15: 0.126*\"food\" + 0.046*\"stand\" + 0.039*\"lie\" + 0.032*\"spell\" + 0.031*\"teach\" + 0.031*\"review\" + 0.030*\"joke\" + 0.026*\"graduate\" + 0.025*\"serious\" + 0.024*\"cant\"\n",
      "\n",
      "16: 0.305*\"people\" + 0.057*\"top\" + 0.039*\"behind\" + 0.034*\"like\" + 0.028*\"quick\" + 0.027*\"remind\" + 0.025*\"fish\" + 0.025*\"love\" + 0.020*\"background\" + 0.019*\"revise\"\n",
      "\n",
      "17: 0.276*\"wish\" + 0.166*\"could\" + 0.112*\"life\" + 0.028*\"google\" + 0.026*\"get\" + 0.025*\"gift\" + 0.022*\"go\" + 0.019*\"not\" + 0.018*\"present\" + 0.018*\"make\"\n",
      "\n",
      "18: 0.227*\"maybe\" + 0.051*\"line\" + 0.038*\"event\" + 0.033*\"public\" + 0.032*\"milk\" + 0.029*\"host\" + 0.027*\"drinking\" + 0.023*\"think\" + 0.020*\"weight\" + 0.020*\"time\"\n",
      "\n",
      "19: 0.076*\"sore\" + 0.066*\"fly\" + 0.047*\"throat\" + 0.045*\"graduation\" + 0.037*\"promise\" + 0.035*\"quote\" + 0.026*\"like\" + 0.023*\"dammit\" + 0.023*\"hunt\" + 0.023*\"000\"\n",
      "\n",
      "20: 0.118*\"stick\" + 0.058*\"hubby\" + 0.051*\"boring\" + 0.048*\"not\" + 0.043*\"jump\" + 0.041*\"ugly\" + 0.030*\"disappoint\" + 0.024*\"size\" + 0.019*\"speed\" + 0.019*\"well\"\n",
      "\n",
      "21: 0.078*\"pain\" + 0.057*\"agree\" + 0.056*\"get\" + 0.047*\"shame\" + 0.044*\"guitar\" + 0.043*\"felt\" + 0.039*\"flight\" + 0.033*\"along\" + 0.033*\"imagine\" + 0.028*\"bummer\"\n",
      "\n",
      "22: 0.245*\"night\" + 0.189*\"watch\" + 0.186*\"last\" + 0.091*\"show\" + 0.032*\"fail\" + 0.022*\"get\" + 0.019*\"home\" + 0.018*\"movie\" + 0.016*\"pizza\" + 0.012*\"count\"\n",
      "\n",
      "23: 0.239*\"yes\" + 0.058*\"second\" + 0.056*\"episode\" + 0.048*\"sadly\" + 0.041*\"mile\" + 0.031*\"body\" + 0.025*\"bear\" + 0.022*\"info\" + 0.020*\"channel\" + 0.019*\"grey\"\n",
      "\n",
      "24: 0.431*\"want\" + 0.055*\"anymore\" + 0.045*\"get\" + 0.029*\"not\" + 0.028*\"know\" + 0.023*\"shot\" + 0.020*\"back\" + 0.020*\"mail\" + 0.018*\"dark\" + 0.018*\"think\"\n",
      "\n",
      "25: 0.155*\"send\" + 0.085*\"news\" + 0.055*\"ouch\" + 0.054*\"band\" + 0.047*\"dang\" + 0.030*\"contact\" + 0.027*\"get\" + 0.024*\"driver\" + 0.022*\"jam\" + 0.021*\"request\"\n",
      "\n",
      "26: 0.180*\"kid\" + 0.091*\"instead\" + 0.045*\"stress\" + 0.040*\"record\" + 0.039*\"machine\" + 0.038*\"slept\" + 0.032*\"sale\" + 0.028*\"get\" + 0.028*\"roll\" + 0.023*\"like\"\n",
      "\n",
      "27: 0.113*\"far\" + 0.066*\"card\" + 0.061*\"get\" + 0.057*\"fall\" + 0.045*\"chance\" + 0.041*\"dress\" + 0.035*\"upload\" + 0.034*\"yummy\" + 0.029*\"evening\" + 0.025*\"like\"\n",
      "\n",
      "28: 0.100*\"nothing\" + 0.098*\"hard\" + 0.078*\"family\" + 0.069*\"write\" + 0.066*\"class\" + 0.066*\"drive\" + 0.063*\"amaze\" + 0.054*\"hello\" + 0.045*\"mind\" + 0.042*\"crazy\"\n",
      "\n",
      "29: 0.192*\"first\" + 0.136*\"time\" + 0.103*\"sit\" + 0.077*\"goodnight\" + 0.067*\"brother\" + 0.036*\"different\" + 0.028*\"get\" + 0.021*\"fam\" + 0.019*\"shift\" + 0.017*\"thru\"\n",
      "\n",
      "30: 0.215*\"year\" + 0.161*\"old\" + 0.105*\"must\" + 0.063*\"reply\" + 0.032*\"everybody\" + 0.026*\"get\" + 0.026*\"homework\" + 0.023*\"like\" + 0.022*\"love\" + 0.021*\"rip\"\n",
      "\n",
      "31: 0.163*\"rock\" + 0.068*\"air\" + 0.050*\"jus\" + 0.045*\"glass\" + 0.045*\"topic\" + 0.042*\"like\" + 0.037*\"mark\" + 0.037*\"told\" + 0.032*\"slowly\" + 0.027*\"trend\"\n",
      "\n",
      "32: 0.325*\"fun\" + 0.109*\"actually\" + 0.079*\"whats\" + 0.069*\"outside\" + 0.038*\"sunny\" + 0.037*\"today\" + 0.034*\"answer\" + 0.028*\"not\" + 0.028*\"plus\" + 0.024*\"cup\"\n",
      "\n",
      "33: 0.237*\"hope\" + 0.103*\"movie\" + 0.081*\"look\" + 0.056*\"not\" + 0.052*\"forward\" + 0.043*\"good\" + 0.037*\"well\" + 0.036*\"alone\" + 0.029*\"go\" + 0.027*\"fair\"\n",
      "\n",
      "34: 0.235*\"head\" + 0.063*\"sigh\" + 0.053*\"red\" + 0.050*\"window\" + 0.039*\"profile\" + 0.037*\"wash\" + 0.035*\"wine\" + 0.035*\"pass\" + 0.025*\"wolverine\" + 0.025*\"road\"\n",
      "\n",
      "35: 0.272*\"sad\" + 0.113*\"hear\" + 0.074*\"stupid\" + 0.072*\"everything\" + 0.048*\"able\" + 0.041*\"though\" + 0.029*\"garden\" + 0.026*\"absolutely\" + 0.024*\"love\" + 0.024*\"lay\"\n",
      "\n",
      "36: 0.190*\"cry\" + 0.062*\"album\" + 0.056*\"meeting\" + 0.054*\"make\" + 0.054*\"film\" + 0.051*\"woman\" + 0.048*\"non\" + 0.040*\"co\" + 0.039*\"goodbye\" + 0.037*\"edit\"\n",
      "\n",
      "37: 0.249*\"little\" + 0.144*\"stuff\" + 0.113*\"funny\" + 0.037*\"john\" + 0.033*\"moon\" + 0.022*\"usual\" + 0.020*\"like\" + 0.018*\"gross\" + 0.017*\"delete\" + 0.017*\"go\"\n",
      "\n",
      "38: 0.241*\"nice\" + 0.192*\"tweet\" + 0.094*\"seem\" + 0.049*\"see\" + 0.033*\"mood\" + 0.025*\"like\" + 0.025*\"today\" + 0.023*\"hun\" + 0.020*\"not\" + 0.019*\"get\"\n",
      "\n",
      "39: 0.293*\"follow\" + 0.102*\"ask\" + 0.078*\"add\" + 0.034*\"case\" + 0.034*\"key\" + 0.029*\"not\" + 0.023*\"death\" + 0.019*\"wave\" + 0.018*\"need\" + 0.016*\"still\"\n",
      "\n",
      "40: 0.223*\"hate\" + 0.173*\"give\" + 0.076*\"video\" + 0.063*\"idea\" + 0.046*\"list\" + 0.045*\"worry\" + 0.028*\"not\" + 0.027*\"boyfriend\" + 0.026*\"cover\" + 0.022*\"child\"\n",
      "\n",
      "41: 0.222*\"sleep\" + 0.151*\"try\" + 0.113*\"always\" + 0.101*\"something\" + 0.078*\"need\" + 0.036*\"save\" + 0.035*\"cant\" + 0.021*\"not\" + 0.019*\"hour\" + 0.019*\"good\"\n",
      "\n",
      "42: 0.159*\"start\" + 0.109*\"get\" + 0.098*\"ready\" + 0.077*\"finish\" + 0.064*\"hair\" + 0.057*\"sweet\" + 0.052*\"whole\" + 0.049*\"house\" + 0.044*\"home\" + 0.030*\"pick\"\n",
      "\n",
      "43: 0.181*\"hey\" + 0.097*\"anything\" + 0.073*\"fan\" + 0.070*\"exam\" + 0.067*\"think\" + 0.065*\"name\" + 0.041*\"feeling\" + 0.033*\"mad\" + 0.030*\"love\" + 0.028*\"well\"\n",
      "\n",
      "44: 0.136*\"keep\" + 0.130*\"talk\" + 0.102*\"someone\" + 0.080*\"know\" + 0.063*\"enough\" + 0.051*\"boo\" + 0.047*\"rest\" + 0.037*\"hand\" + 0.033*\"special\" + 0.031*\"afternoon\"\n",
      "\n",
      "45: 0.227*\"thank\" + 0.126*\"god\" + 0.086*\"hell\" + 0.058*\"cut\" + 0.028*\"pull\" + 0.026*\"app\" + 0.023*\"degree\" + 0.021*\"screw\" + 0.020*\"like\" + 0.020*\"get\"\n",
      "\n",
      "46: 0.104*\"mum\" + 0.086*\"problem\" + 0.079*\"busy\" + 0.077*\"open\" + 0.065*\"woke\" + 0.054*\"cake\" + 0.048*\"bye\" + 0.045*\"especially\" + 0.044*\"horrible\" + 0.042*\"download\"\n",
      "\n",
      "47: 0.160*\"soon\" + 0.157*\"let\" + 0.099*\"run\" + 0.079*\"excite\" + 0.057*\"catch\" + 0.043*\"know\" + 0.036*\"tour\" + 0.034*\"sister\" + 0.032*\"flu\" + 0.021*\"expect\"\n",
      "\n",
      "48: 0.236*\"bed\" + 0.106*\"put\" + 0.081*\"go\" + 0.045*\"get\" + 0.038*\"page\" + 0.037*\"finger\" + 0.030*\"blue\" + 0.025*\"got\" + 0.023*\"back\" + 0.022*\"cross\"\n",
      "\n",
      "49: 0.291*\"twitter\" + 0.147*\"another\" + 0.078*\"around\" + 0.035*\"get\" + 0.035*\"nope\" + 0.035*\"number\" + 0.035*\"asleep\" + 0.029*\"parent\" + 0.028*\"fell\" + 0.028*\"not\"\n",
      "\n",
      "50: 0.195*\"late\" + 0.112*\"real\" + 0.089*\"test\" + 0.087*\"site\" + 0.072*\"join\" + 0.050*\"white\" + 0.048*\"block\" + 0.034*\"website\" + 0.029*\"social\" + 0.023*\"sense\"\n",
      "\n",
      "51: 0.172*\"bit\" + 0.111*\"song\" + 0.068*\"lunch\" + 0.060*\"beautiful\" + 0.054*\"find\" + 0.052*\"photo\" + 0.044*\"bring\" + 0.041*\"online\" + 0.038*\"new\" + 0.030*\"cant\"\n",
      "\n",
      "52: 0.425*\"work\" + 0.117*\"weekend\" + 0.084*\"call\" + 0.058*\"check\" + 0.054*\"get\" + 0.049*\"weather\" + 0.022*\"perfect\" + 0.018*\"not\" + 0.016*\"still\" + 0.015*\"cant\"\n",
      "\n",
      "53: 0.198*\"hurt\" + 0.071*\"concert\" + 0.063*\"hungry\" + 0.062*\"heart\" + 0.039*\"hold\" + 0.036*\"get\" + 0.032*\"bag\" + 0.031*\"stomach\" + 0.024*\"back\" + 0.023*\"peep\"\n",
      "\n",
      "54: 0.129*\"ever\" + 0.124*\"finally\" + 0.120*\"break\" + 0.115*\"guess\" + 0.045*\"final\" + 0.038*\"foot\" + 0.032*\"best\" + 0.029*\"cook\" + 0.027*\"bus\" + 0.022*\"note\"\n",
      "\n",
      "55: 0.161*\"thing\" + 0.086*\"still\" + 0.081*\"hot\" + 0.078*\"like\" + 0.065*\"tho\" + 0.049*\"boy\" + 0.046*\"hang\" + 0.036*\"pay\" + 0.033*\"look\" + 0.033*\"get\"\n",
      "\n",
      "56: 0.139*\"change\" + 0.116*\"totally\" + 0.060*\"laugh\" + 0.060*\"nap\" + 0.044*\"babe\" + 0.040*\"return\" + 0.035*\"lazy\" + 0.030*\"web\" + 0.029*\"bill\" + 0.028*\"session\"\n",
      "\n",
      "57: 0.246*\"leave\" + 0.098*\"sun\" + 0.094*\"drink\" + 0.093*\"coffee\" + 0.055*\"blip\" + 0.037*\"less\" + 0.032*\"light\" + 0.027*\"hour\" + 0.024*\"not\" + 0.015*\"clothes\"\n",
      "\n",
      "58: 0.271*\"right\" + 0.199*\"school\" + 0.101*\"glad\" + 0.055*\"word\" + 0.020*\"rainy\" + 0.017*\"know\" + 0.016*\"egg\" + 0.014*\"like\" + 0.014*\"surgery\" + 0.014*\"hero\"\n",
      "\n",
      "59: 0.166*\"every\" + 0.153*\"die\" + 0.043*\"race\" + 0.041*\"airport\" + 0.041*\"ton\" + 0.040*\"scar\" + 0.038*\"blackberry\" + 0.036*\"nick\" + 0.031*\"get\" + 0.031*\"pas\"\n",
      "\n",
      "60: 0.242*\"rain\" + 0.101*\"update\" + 0.058*\"fix\" + 0.039*\"revision\" + 0.037*\"woo\" + 0.036*\"forever\" + 0.035*\"go\" + 0.034*\"puppy\" + 0.026*\"fever\" + 0.026*\"get\"\n",
      "\n",
      "61: 0.107*\"dog\" + 0.083*\"ticket\" + 0.071*\"get\" + 0.069*\"yea\" + 0.066*\"couple\" + 0.047*\"near\" + 0.042*\"pool\" + 0.037*\"pray\" + 0.033*\"sleepy\" + 0.030*\"swim\"\n",
      "\n",
      "62: 0.249*\"tonight\" + 0.134*\"live\" + 0.097*\"party\" + 0.076*\"post\" + 0.040*\"tired\" + 0.036*\"share\" + 0.034*\"get\" + 0.028*\"go\" + 0.027*\"beer\" + 0.024*\"club\"\n",
      "\n",
      "63: 0.160*\"play\" + 0.111*\"enjoy\" + 0.071*\"wake\" + 0.063*\"turn\" + 0.060*\"free\" + 0.053*\"holiday\" + 0.048*\"wonder\" + 0.048*\"get\" + 0.043*\"hop\" + 0.042*\"bank\"\n",
      "\n",
      "64: 0.157*\"read\" + 0.087*\"dad\" + 0.082*\"room\" + 0.079*\"clean\" + 0.064*\"either\" + 0.060*\"wear\" + 0.046*\"sing\" + 0.038*\"sunshine\" + 0.034*\"beat\" + 0.030*\"gutted\"\n",
      "\n",
      "65: 0.489*\"day\" + 0.209*\"happy\" + 0.170*\"mother\" + 0.035*\"birthday\" + 0.020*\"today\" + 0.015*\"good\" + 0.011*\"course\" + 0.009*\"great\" + 0.008*\"bar\" + 0.005*\"wonderful\"\n",
      "\n",
      "66: 0.127*\"mommy\" + 0.123*\"quite\" + 0.116*\"blog\" + 0.067*\"hmm\" + 0.051*\"charge\" + 0.048*\"twit\" + 0.039*\"match\" + 0.027*\"new\" + 0.026*\"battery\" + 0.023*\"positive\"\n",
      "\n",
      "67: 0.228*\"awesome\" + 0.145*\"two\" + 0.054*\"dance\" + 0.054*\"anyway\" + 0.042*\"water\" + 0.036*\"shopping\" + 0.033*\"huge\" + 0.030*\"surprise\" + 0.029*\"get\" + 0.027*\"wife\"\n",
      "\n",
      "68: 0.270*\"man\" + 0.080*\"message\" + 0.059*\"due\" + 0.049*\"fact\" + 0.042*\"depress\" + 0.039*\"support\" + 0.027*\"quiz\" + 0.025*\"see\" + 0.023*\"direct\" + 0.023*\"cant\"\n",
      "\n",
      "69: 0.078*\"fine\" + 0.073*\"high\" + 0.062*\"tea\" + 0.061*\"dear\" + 0.035*\"ooh\" + 0.035*\"radio\" + 0.034*\"crash\" + 0.032*\"alright\" + 0.032*\"double\" + 0.031*\"invite\"\n",
      "\n",
      "70: 0.351*\"miss\" + 0.111*\"girl\" + 0.068*\"saw\" + 0.054*\"follower\" + 0.048*\"dinner\" + 0.046*\"cute\" + 0.036*\"eye\" + 0.034*\"come\" + 0.030*\"back\" + 0.027*\"go\"\n",
      "\n",
      "71: 0.121*\"beach\" + 0.075*\"prom\" + 0.049*\"consider\" + 0.044*\"tan\" + 0.043*\"prob\" + 0.041*\"mix\" + 0.038*\"ahead\" + 0.030*\"bored\" + 0.024*\"entertain\" + 0.022*\"dat\"\n",
      "\n",
      "72: 0.400*\"bad\" + 0.043*\"sign\" + 0.039*\"cheer\" + 0.038*\"mess\" + 0.034*\"good\" + 0.034*\"get\" + 0.028*\"annoy\" + 0.027*\"not\" + 0.025*\"even\" + 0.019*\"today\"\n",
      "\n",
      "73: 0.233*\"wait\" + 0.137*\"cant\" + 0.090*\"lose\" + 0.074*\"month\" + 0.063*\"close\" + 0.057*\"music\" + 0.044*\"trip\" + 0.031*\"store\" + 0.026*\"visit\" + 0.022*\"hows\"\n",
      "\n",
      "74: 0.197*\"later\" + 0.125*\"kinda\" + 0.053*\"question\" + 0.049*\"net\" + 0.043*\"get\" + 0.038*\"left\" + 0.037*\"interview\" + 0.035*\"tear\" + 0.034*\"ill\" + 0.033*\"today\"\n",
      "\n",
      "75: 0.144*\"almost\" + 0.095*\"internet\" + 0.092*\"kill\" + 0.069*\"slow\" + 0.060*\"laptop\" + 0.045*\"100\" + 0.040*\"mac\" + 0.038*\"screen\" + 0.038*\"piss\" + 0.027*\"front\"\n",
      "\n",
      "76: 0.297*\"say\" + 0.210*\"sorry\" + 0.089*\"bore\" + 0.045*\"hug\" + 0.036*\"person\" + 0.035*\"spend\" + 0.022*\"heard\" + 0.021*\"know\" + 0.021*\"not\" + 0.020*\"like\"\n",
      "\n",
      "77: 0.178*\"guy\" + 0.146*\"wont\" + 0.145*\"sure\" + 0.065*\"make\" + 0.056*\"hit\" + 0.049*\"ill\" + 0.039*\"til\" + 0.034*\"smile\" + 0.032*\"get\" + 0.031*\"not\"\n",
      "\n",
      "78: 0.166*\"may\" + 0.161*\"eat\" + 0.084*\"luck\" + 0.064*\"war\" + 0.059*\"awake\" + 0.056*\"good\" + 0.056*\"star\" + 0.049*\"sometimes\" + 0.049*\"breakfast\" + 0.040*\"4th\"\n",
      "\n",
      "79: 0.346*\"really\" + 0.178*\"yeah\" + 0.080*\"help\" + 0.049*\"probably\" + 0.047*\"okay\" + 0.032*\"amazing\" + 0.025*\"need\" + 0.021*\"wed\" + 0.019*\"make\" + 0.019*\"know\"\n",
      "\n",
      "80: 0.229*\"friend\" + 0.103*\"sound\" + 0.072*\"plan\" + 0.054*\"star\" + 0.047*\"learn\" + 0.046*\"trek\" + 0.040*\"like\" + 0.036*\"see\" + 0.034*\"date\" + 0.032*\"good\"\n",
      "\n",
      "81: 0.128*\"suck\" + 0.093*\"hour\" + 0.082*\"move\" + 0.070*\"since\" + 0.069*\"cold\" + 0.065*\"he\" + 0.051*\"ago\" + 0.050*\"full\" + 0.049*\"super\" + 0.048*\"get\"\n",
      "\n",
      "82: 0.331*\"good\" + 0.267*\"morning\" + 0.054*\"lovely\" + 0.042*\"suppose\" + 0.041*\"hopefully\" + 0.036*\"link\" + 0.023*\"project\" + 0.019*\"time\" + 0.018*\"exactly\" + 0.017*\"tip\"\n",
      "\n",
      "83: 0.213*\"week\" + 0.153*\"next\" + 0.115*\"do\" + 0.067*\"meet\" + 0.040*\"wrong\" + 0.034*\"get\" + 0.032*\"go\" + 0.032*\"season\" + 0.029*\"short\" + 0.021*\"traffic\"\n",
      "\n",
      "84: 0.293*\"happen\" + 0.284*\"yesterday\" + 0.223*\"mine\" + 0.096*\"congrats\" + 0.027*\"love\" + 0.006*\"runner\" + 0.002*\"bird\" + 0.001*\"see\" + 0.000*\"kick\" + 0.000*\"originally\"\n",
      "\n",
      "85: 0.224*\"big\" + 0.196*\"away\" + 0.047*\"age\" + 0.038*\"time\" + 0.036*\"go\" + 0.035*\"arrive\" + 0.032*\"get\" + 0.026*\"hilarious\" + 0.023*\"file\" + 0.023*\"back\"\n",
      "\n",
      "86: 0.147*\"please\" + 0.132*\"tell\" + 0.131*\"phone\" + 0.109*\"listen\" + 0.082*\"till\" + 0.053*\"else\" + 0.035*\"park\" + 0.034*\"definitely\" + 0.027*\"worth\" + 0.020*\"see\"\n",
      "\n",
      "87: 0.146*\"stop\" + 0.115*\"summer\" + 0.090*\"headache\" + 0.083*\"remember\" + 0.075*\"face\" + 0.050*\"yep\" + 0.048*\"easy\" + 0.042*\"chat\" + 0.033*\"paper\" + 0.033*\"get\"\n",
      "\n",
      "88: 0.254*\"feel\" + 0.084*\"sick\" + 0.083*\"already\" + 0.081*\"mean\" + 0.074*\"tire\" + 0.067*\"well\" + 0.049*\"might\" + 0.047*\"not\" + 0.036*\"office\" + 0.033*\"today\"\n",
      "\n",
      "89: 0.151*\"best\" + 0.129*\"yet\" + 0.111*\"ugh\" + 0.081*\"picture\" + 0.076*\"least\" + 0.052*\"cat\" + 0.044*\"point\" + 0.039*\"not\" + 0.019*\"version\" + 0.019*\"still\"\n",
      "\n",
      "90: 0.194*\"wan\" + 0.104*\"without\" + 0.082*\"forget\" + 0.053*\"town\" + 0.049*\"bless\" + 0.049*\"lady\" + 0.045*\"train\" + 0.038*\"business\" + 0.032*\"like\" + 0.030*\"notice\"\n",
      "\n",
      "91: 0.172*\"cool\" + 0.161*\"everyone\" + 0.100*\"place\" + 0.088*\"shes\" + 0.065*\"walk\" + 0.053*\"moment\" + 0.046*\"care\" + 0.032*\"relax\" + 0.030*\"cousin\" + 0.025*\"daughter\"\n",
      "\n",
      "92: 0.129*\"job\" + 0.125*\"buy\" + 0.092*\"money\" + 0.081*\"back\" + 0.059*\"half\" + 0.046*\"new\" + 0.042*\"forgot\" + 0.041*\"realize\" + 0.033*\"team\" + 0.033*\"men\"\n",
      "\n",
      "93: 0.330*\"much\" + 0.101*\"pretty\" + 0.086*\"baby\" + 0.081*\"poor\" + 0.080*\"car\" + 0.050*\"kind\" + 0.037*\"reason\" + 0.020*\"think\" + 0.020*\"middle\" + 0.016*\"time\"\n",
      "\n",
      "94: 0.280*\"would\" + 0.163*\"never\" + 0.083*\"book\" + 0.053*\"thought\" + 0.053*\"part\" + 0.033*\"like\" + 0.029*\"rather\" + 0.023*\"apparently\" + 0.023*\"group\" + 0.022*\"none\"\n",
      "\n",
      "95: 0.125*\"pic\" + 0.102*\"many\" + 0.086*\"minute\" + 0.067*\"vote\" + 0.058*\"set\" + 0.051*\"figure\" + 0.049*\"take\" + 0.048*\"city\" + 0.046*\"bout\" + 0.039*\"bee\"\n",
      "\n",
      "96: 0.178*\"end\" + 0.120*\"dream\" + 0.097*\"shop\" + 0.084*\"dead\" + 0.081*\"email\" + 0.054*\"seriously\" + 0.045*\"go\" + 0.037*\"ball\" + 0.036*\"single\" + 0.022*\"action\"\n",
      "\n",
      "97: 0.304*\"tomorrow\" + 0.189*\"long\" + 0.060*\"dude\" + 0.046*\"lucky\" + 0.032*\"sell\" + 0.029*\"cheese\" + 0.025*\"green\" + 0.024*\"ill\" + 0.024*\"state\" + 0.023*\"doctor\"\n",
      "\n",
      "98: 0.345*\"thanks\" + 0.130*\"lot\" + 0.102*\"wow\" + 0.095*\"world\" + 0.079*\"stay\" + 0.046*\"one\" + 0.031*\"wonderful\" + 0.023*\"today\" + 0.020*\"make\" + 0.011*\"new\"\n",
      "\n",
      "99: 0.238*\"way\" + 0.110*\"early\" + 0.104*\"game\" + 0.082*\"win\" + 0.047*\"true\" + 0.043*\"get\" + 0.038*\"three\" + 0.025*\"copy\" + 0.021*\"home\" + 0.021*\"heat\"\n",
      "\n"
     ]
    }
   ],
   "source": [
    "for i,topic in LDAmodel.show_topics(formatted=True, num_topics=num_topics, num_words=10):\n",
    "    print(str(i)+\": \"+ topic)\n",
    "    print()"
   ]
  }
 ],
 "metadata": {
  "kernelspec": {
   "display_name": "Python 3",
   "language": "python",
   "name": "python3"
  },
  "language_info": {
   "codemirror_mode": {
    "name": "ipython",
    "version": 3
   },
   "file_extension": ".py",
   "mimetype": "text/x-python",
   "name": "python",
   "nbconvert_exporter": "python",
   "pygments_lexer": "ipython3",
   "version": "3.7.0"
  }
 },
 "nbformat": 4,
 "nbformat_minor": 4
}
