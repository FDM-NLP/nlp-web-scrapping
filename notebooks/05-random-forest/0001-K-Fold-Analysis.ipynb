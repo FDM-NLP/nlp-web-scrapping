{
 "cells": [
  {
   "cell_type": "markdown",
   "metadata": {},
   "source": [
    "<h1><center> K-Fold Analysis </center></h1>\n",
    "\n",
    "LinkedIn Learning: https://www.linkedin.com/learning/nlp-with-python-for-machine-learning-essential-training/cross-validation-and-evaluation-metrics?u=78163626<br>\n",
    "https://machinelearningmastery.com/k-fold-cross-validation/<br>\n",
    "https://scikit-learn.org/stable/modules/cross_validation.html\n",
    "\n",
    "## *Written by Nathanael Hitch*\n",
    "\n",
    "<div style=\"color:purple\">Background in classification and other metric in:</div>\n",
    "<ul style=\"color:purple\">\n",
    "    <li>NLP_Logisitic-Regression.ipynb</li>\n",
    "    <li>Random_Forest.ipynb</li>\n",
    "</ul>"
   ]
  },
  {
   "cell_type": "markdown",
   "metadata": {},
   "source": [
    "In previous looks at NLP sentiment models, there have been ways of analysing how good a model is when using testing data. For example:\n",
    "\n",
    "- Accuracy: percentage of the total predictions that are completely correct.\n",
    "\n",
    "# What is it?\n",
    "\n",
    "It is when \"the full data set is divided into *k*-subsets (*k* being a number) with the holdout method repeated *k* times. Each time, one of the subsets is used to test the model while all the other subsets are put together to train the model\".\n",
    "\n",
    "For a **5 fold validation**, k = 5, with a test set of 10,000 examples:\n",
    "\n",
    "1. The test set is split into **5** subsets.\n",
    "2. The first subset is put aside to test; the other 4 subsets train the model.\n",
    "3. The accuracy (metric) for the model is determined by using the testing subset.\n",
    "4. Each subset is used as a testing subset, with the other 4 training the model to be tested.\n",
    "5. Each time the accuracy score is attained from each model.\n",
    "6. The full array of avergae scores is output, along with the average of the model's accuracy.\n",
    "\n",
    "You can see what difference between the lowest and highest score compared with the model's average score.<br>\n",
    "Be aware that even small drops in accuracy can cause big changes in the results, e.g. a business setting where there are millions of pounds involved.\n",
    "\n",
    "## Usefulness\n",
    "\n",
    "Testing the model over a number of differenct sets will give a better indication about how the model will perform in the real-world.<br>\n",
    "Depending on how big the differences between the averages are, we understand how well the model will work when put into production."
   ]
  },
  {
   "cell_type": "markdown",
   "metadata": {},
   "source": [
    "# Example\n",
    "\n",
    "We can use sklearn to import in the K_Fold API for ease of use. Using the KFold object, you can see the split in the data set:"
   ]
  },
  {
   "cell_type": "code",
   "execution_count": 3,
   "metadata": {},
   "outputs": [
    {
     "name": "stdout",
     "output_type": "stream",
     "text": [
      "train: [0.1 0.4 0.5 0.6], test: [0.2 0.3]\n",
      "train: [0.2 0.3 0.4 0.6], test: [0.1 0.5]\n",
      "train: [0.1 0.2 0.3 0.5], test: [0.4 0.6]\n"
     ]
    }
   ],
   "source": [
    "from numpy import array\n",
    "from sklearn.model_selection import KFold\n",
    "\n",
    "data = array([0.1, 0.2, 0.3, 0.4, 0.5, 0.6])\n",
    "# data sample\n",
    "\n",
    "kfold = KFold(3, True, 1)\n",
    "# prepare cross validation\n",
    "\n",
    "for train, test in kfold.split(data):\n",
    "    print('train: %s, test: %s' % (data[train], data[test]))\n",
    "# enumerate splits"
   ]
  },
  {
   "cell_type": "code",
   "execution_count": null,
   "metadata": {},
   "outputs": [],
   "source": []
  }
 ],
 "metadata": {
  "kernelspec": {
   "display_name": "Python 3",
   "language": "python",
   "name": "python3"
  },
  "language_info": {
   "codemirror_mode": {
    "name": "ipython",
    "version": 3
   },
   "file_extension": ".py",
   "mimetype": "text/x-python",
   "name": "python",
   "nbconvert_exporter": "python",
   "pygments_lexer": "ipython3",
   "version": "3.7.6"
  }
 },
 "nbformat": 4,
 "nbformat_minor": 4
}
