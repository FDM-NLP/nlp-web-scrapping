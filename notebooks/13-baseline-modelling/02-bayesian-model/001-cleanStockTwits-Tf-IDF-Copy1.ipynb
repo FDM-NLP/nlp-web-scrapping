{
 "cells": [
  {
   "cell_type": "code",
   "execution_count": 1,
   "metadata": {},
   "outputs": [],
   "source": [
    "from sklearn.model_selection import train_test_split\n",
    "from sklearn.feature_extraction.text import CountVectorizer, TfidfVectorizer\n",
    "from sklearn.naive_bayes import MultinomialNB\n",
    "from sklearn import metrics\n",
    "from sklearn.model_selection import cross_val_score\n",
    "\n",
    "import pandas as pd\n",
    "import numpy as np\n",
    "import re"
   ]
  },
  {
   "cell_type": "markdown",
   "metadata": {},
   "source": [
    "### Define Metrics"
   ]
  },
  {
   "cell_type": "code",
   "execution_count": 2,
   "metadata": {},
   "outputs": [],
   "source": [
    "from sklearn.metrics import accuracy_score, f1_score, precision_score, recall_score, classification_report\n",
    "\n",
    "def get_metrics(y_test, y_predicted):  \n",
    "    # true positives / (true positives+false positives)\n",
    "    precision = precision_score(y_test, y_predicted, pos_label=None,\n",
    "                                    average='weighted')             \n",
    "    # true positives / (true positives + false negatives)\n",
    "    recall = recall_score(y_test, y_predicted, pos_label=None,\n",
    "                              average='weighted')\n",
    "    \n",
    "    # harmonic mean of precision and recall\n",
    "    f1 = f1_score(y_test, y_predicted, pos_label=None, average='weighted')\n",
    "    \n",
    "    # true positives + true negatives/ total\n",
    "    accuracy = accuracy_score(y_test, y_predicted)\n",
    "    return accuracy, precision, recall, f1"
   ]
  },
  {
   "cell_type": "markdown",
   "metadata": {},
   "source": [
    "### This method creates classification integer\n",
    "Positive tweets : 1\n",
    "Neutral tweets : 0\n",
    "Negative tweets : -1"
   ]
  },
  {
   "cell_type": "code",
   "execution_count": 3,
   "metadata": {},
   "outputs": [],
   "source": [
    "#New column for classification labels, either 1 or 0\n",
    "def scoreCol(df, text_field):\n",
    "    scores = []\n",
    "    for x in df[text_field]:\n",
    "        if x == 'Bullish':\n",
    "            x = 1\n",
    "            \n",
    "        elif x == 'Bearish':\n",
    "            x = 0\n",
    "         \n",
    "        #else:\n",
    "            #print(':(')\n",
    "            \n",
    "        scores.append(x)        \n",
    "    df['scores'] = scores\n",
    "    return df"
   ]
  },
  {
   "cell_type": "markdown",
   "metadata": {},
   "source": [
    "### Read in dataset\n",
    "The first dataset is going to be the cleaned dataset"
   ]
  },
  {
   "cell_type": "code",
   "execution_count": 4,
   "metadata": {},
   "outputs": [
    {
     "data": {
      "text/html": [
       "<div>\n",
       "<style scoped>\n",
       "    .dataframe tbody tr th:only-of-type {\n",
       "        vertical-align: middle;\n",
       "    }\n",
       "\n",
       "    .dataframe tbody tr th {\n",
       "        vertical-align: top;\n",
       "    }\n",
       "\n",
       "    .dataframe thead th {\n",
       "        text-align: right;\n",
       "    }\n",
       "</style>\n",
       "<table border=\"1\" class=\"dataframe\">\n",
       "  <thead>\n",
       "    <tr style=\"text-align: right;\">\n",
       "      <th></th>\n",
       "      <th>user</th>\n",
       "      <th>message_id</th>\n",
       "      <th>sentiment</th>\n",
       "      <th>content</th>\n",
       "      <th>date</th>\n",
       "      <th>time</th>\n",
       "      <th>securities</th>\n",
       "      <th>tweet text</th>\n",
       "      <th>tokens</th>\n",
       "      <th>num_of_tokens</th>\n",
       "      <th>tokens_in_transformed_text</th>\n",
       "      <th>num_of_tokens_in_transformed_text</th>\n",
       "    </tr>\n",
       "  </thead>\n",
       "  <tbody>\n",
       "    <tr>\n",
       "      <th>0</th>\n",
       "      <td>babybounce</td>\n",
       "      <td>/babybounce/message/226382374</td>\n",
       "      <td>Bullish</td>\n",
       "      <td>$BA travel going green bullish $CCL $RCL $NCLH...</td>\n",
       "      <td>09/07/2020</td>\n",
       "      <td>12:21:03</td>\n",
       "      <td>['$BA', '$CCL', '$RCL', '$NCLH', '$SPY']</td>\n",
       "      <td>travel going green bullish</td>\n",
       "      <td>['travel', 'going', 'green', 'bullish']</td>\n",
       "      <td>4</td>\n",
       "      <td>['travel', 'go', 'green', 'bullish']</td>\n",
       "      <td>4</td>\n",
       "    </tr>\n",
       "    <tr>\n",
       "      <th>1</th>\n",
       "      <td>L1_Trading</td>\n",
       "      <td>/L1_Trading/message/226381562</td>\n",
       "      <td>Bullish</td>\n",
       "      <td>$SPY let’s go mooning today</td>\n",
       "      <td>09/07/2020</td>\n",
       "      <td>12:21:03</td>\n",
       "      <td>['$SPY']</td>\n",
       "      <td>let’s go mooning today</td>\n",
       "      <td>['let', 'go', 'mooning', 'today']</td>\n",
       "      <td>4</td>\n",
       "      <td>['let', 'go', 'moon', 'today']</td>\n",
       "      <td>4</td>\n",
       "    </tr>\n",
       "    <tr>\n",
       "      <th>2</th>\n",
       "      <td>Economist4401</td>\n",
       "      <td>/Economist4401/message/226381511</td>\n",
       "      <td>Bearish</td>\n",
       "      <td>$SPY $SPX $DJIA $DIA $QQQ Analysts on US stock...</td>\n",
       "      <td>09/07/2020</td>\n",
       "      <td>12:21:03</td>\n",
       "      <td>['$SPY', '$SPX', '$DJIA', '$DIA', '$QQQ']</td>\n",
       "      <td>Analysts on US stock markets: 1. On Monday, Bl...</td>\n",
       "      <td>['analysts', 'us', 'stock', 'markets', 'monday...</td>\n",
       "      <td>58</td>\n",
       "      <td>['analyst', 'us', 'stock', 'market', 'monday',...</td>\n",
       "      <td>37</td>\n",
       "    </tr>\n",
       "  </tbody>\n",
       "</table>\n",
       "</div>"
      ],
      "text/plain": [
       "            user                        message_id sentiment  \\\n",
       "0     babybounce     /babybounce/message/226382374   Bullish   \n",
       "1     L1_Trading     /L1_Trading/message/226381562   Bullish   \n",
       "2  Economist4401  /Economist4401/message/226381511   Bearish   \n",
       "\n",
       "                                             content        date      time  \\\n",
       "0  $BA travel going green bullish $CCL $RCL $NCLH...  09/07/2020  12:21:03   \n",
       "1                        $SPY let’s go mooning today  09/07/2020  12:21:03   \n",
       "2  $SPY $SPX $DJIA $DIA $QQQ Analysts on US stock...  09/07/2020  12:21:03   \n",
       "\n",
       "                                  securities  \\\n",
       "0   ['$BA', '$CCL', '$RCL', '$NCLH', '$SPY']   \n",
       "1                                   ['$SPY']   \n",
       "2  ['$SPY', '$SPX', '$DJIA', '$DIA', '$QQQ']   \n",
       "\n",
       "                                          tweet text  \\\n",
       "0                         travel going green bullish   \n",
       "1                             let’s go mooning today   \n",
       "2  Analysts on US stock markets: 1. On Monday, Bl...   \n",
       "\n",
       "                                              tokens  num_of_tokens  \\\n",
       "0            ['travel', 'going', 'green', 'bullish']              4   \n",
       "1                  ['let', 'go', 'mooning', 'today']              4   \n",
       "2  ['analysts', 'us', 'stock', 'markets', 'monday...             58   \n",
       "\n",
       "                          tokens_in_transformed_text  \\\n",
       "0               ['travel', 'go', 'green', 'bullish']   \n",
       "1                     ['let', 'go', 'moon', 'today']   \n",
       "2  ['analyst', 'us', 'stock', 'market', 'monday',...   \n",
       "\n",
       "   num_of_tokens_in_transformed_text  \n",
       "0                                  4  \n",
       "1                                  4  \n",
       "2                                 37  "
      ]
     },
     "execution_count": 4,
     "metadata": {},
     "output_type": "execute_result"
    }
   ],
   "source": [
    "#Read data into dataframe\n",
    "#data = pd.read_csv(r'C:\\Users\\rsisl\\source\\repos\\NLP_Web_Scraping\\notebooks\\13-baseline-modelling\\cleanData.csv')\n",
    "data = pd.read_csv(r'..\\cleanData.csv')\n",
    "data.head(3)"
   ]
  },
  {
   "cell_type": "code",
   "execution_count": 5,
   "metadata": {},
   "outputs": [
    {
     "data": {
      "text/html": [
       "<div>\n",
       "<style scoped>\n",
       "    .dataframe tbody tr th:only-of-type {\n",
       "        vertical-align: middle;\n",
       "    }\n",
       "\n",
       "    .dataframe tbody tr th {\n",
       "        vertical-align: top;\n",
       "    }\n",
       "\n",
       "    .dataframe thead th {\n",
       "        text-align: right;\n",
       "    }\n",
       "</style>\n",
       "<table border=\"1\" class=\"dataframe\">\n",
       "  <thead>\n",
       "    <tr style=\"text-align: right;\">\n",
       "      <th></th>\n",
       "      <th>user</th>\n",
       "      <th>message_id</th>\n",
       "      <th>sentiment</th>\n",
       "      <th>content</th>\n",
       "      <th>date</th>\n",
       "      <th>time</th>\n",
       "      <th>securities</th>\n",
       "      <th>tweet text</th>\n",
       "      <th>tokens</th>\n",
       "      <th>num_of_tokens</th>\n",
       "      <th>tokens_in_transformed_text</th>\n",
       "      <th>num_of_tokens_in_transformed_text</th>\n",
       "      <th>scores</th>\n",
       "    </tr>\n",
       "  </thead>\n",
       "  <tbody>\n",
       "    <tr>\n",
       "      <th>0</th>\n",
       "      <td>babybounce</td>\n",
       "      <td>/babybounce/message/226382374</td>\n",
       "      <td>Bullish</td>\n",
       "      <td>$BA travel going green bullish $CCL $RCL $NCLH...</td>\n",
       "      <td>09/07/2020</td>\n",
       "      <td>12:21:03</td>\n",
       "      <td>['$BA', '$CCL', '$RCL', '$NCLH', '$SPY']</td>\n",
       "      <td>travel going green bullish</td>\n",
       "      <td>['travel', 'going', 'green', 'bullish']</td>\n",
       "      <td>4</td>\n",
       "      <td>['travel', 'go', 'green', 'bullish']</td>\n",
       "      <td>4</td>\n",
       "      <td>1</td>\n",
       "    </tr>\n",
       "    <tr>\n",
       "      <th>1</th>\n",
       "      <td>L1_Trading</td>\n",
       "      <td>/L1_Trading/message/226381562</td>\n",
       "      <td>Bullish</td>\n",
       "      <td>$SPY let’s go mooning today</td>\n",
       "      <td>09/07/2020</td>\n",
       "      <td>12:21:03</td>\n",
       "      <td>['$SPY']</td>\n",
       "      <td>let’s go mooning today</td>\n",
       "      <td>['let', 'go', 'mooning', 'today']</td>\n",
       "      <td>4</td>\n",
       "      <td>['let', 'go', 'moon', 'today']</td>\n",
       "      <td>4</td>\n",
       "      <td>1</td>\n",
       "    </tr>\n",
       "    <tr>\n",
       "      <th>2</th>\n",
       "      <td>Economist4401</td>\n",
       "      <td>/Economist4401/message/226381511</td>\n",
       "      <td>Bearish</td>\n",
       "      <td>$SPY $SPX $DJIA $DIA $QQQ Analysts on US stock...</td>\n",
       "      <td>09/07/2020</td>\n",
       "      <td>12:21:03</td>\n",
       "      <td>['$SPY', '$SPX', '$DJIA', '$DIA', '$QQQ']</td>\n",
       "      <td>Analysts on US stock markets: 1. On Monday, Bl...</td>\n",
       "      <td>['analysts', 'us', 'stock', 'markets', 'monday...</td>\n",
       "      <td>58</td>\n",
       "      <td>['analyst', 'us', 'stock', 'market', 'monday',...</td>\n",
       "      <td>37</td>\n",
       "      <td>0</td>\n",
       "    </tr>\n",
       "  </tbody>\n",
       "</table>\n",
       "</div>"
      ],
      "text/plain": [
       "            user                        message_id sentiment  \\\n",
       "0     babybounce     /babybounce/message/226382374   Bullish   \n",
       "1     L1_Trading     /L1_Trading/message/226381562   Bullish   \n",
       "2  Economist4401  /Economist4401/message/226381511   Bearish   \n",
       "\n",
       "                                             content        date      time  \\\n",
       "0  $BA travel going green bullish $CCL $RCL $NCLH...  09/07/2020  12:21:03   \n",
       "1                        $SPY let’s go mooning today  09/07/2020  12:21:03   \n",
       "2  $SPY $SPX $DJIA $DIA $QQQ Analysts on US stock...  09/07/2020  12:21:03   \n",
       "\n",
       "                                  securities  \\\n",
       "0   ['$BA', '$CCL', '$RCL', '$NCLH', '$SPY']   \n",
       "1                                   ['$SPY']   \n",
       "2  ['$SPY', '$SPX', '$DJIA', '$DIA', '$QQQ']   \n",
       "\n",
       "                                          tweet text  \\\n",
       "0                         travel going green bullish   \n",
       "1                             let’s go mooning today   \n",
       "2  Analysts on US stock markets: 1. On Monday, Bl...   \n",
       "\n",
       "                                              tokens  num_of_tokens  \\\n",
       "0            ['travel', 'going', 'green', 'bullish']              4   \n",
       "1                  ['let', 'go', 'mooning', 'today']              4   \n",
       "2  ['analysts', 'us', 'stock', 'markets', 'monday...             58   \n",
       "\n",
       "                          tokens_in_transformed_text  \\\n",
       "0               ['travel', 'go', 'green', 'bullish']   \n",
       "1                     ['let', 'go', 'moon', 'today']   \n",
       "2  ['analyst', 'us', 'stock', 'market', 'monday',...   \n",
       "\n",
       "   num_of_tokens_in_transformed_text  scores  \n",
       "0                                  4       1  \n",
       "1                                  4       1  \n",
       "2                                 37       0  "
      ]
     },
     "execution_count": 5,
     "metadata": {},
     "output_type": "execute_result"
    }
   ],
   "source": [
    "#Call classification label method\n",
    "data = scoreCol(data,'sentiment')\n",
    "data.head(3)"
   ]
  },
  {
   "cell_type": "markdown",
   "metadata": {},
   "source": [
    "Get list of Tokens for each tweet"
   ]
  },
  {
   "cell_type": "markdown",
   "metadata": {},
   "source": [
    "Create the list_corpus and the labels:"
   ]
  },
  {
   "cell_type": "code",
   "execution_count": 6,
   "metadata": {},
   "outputs": [
    {
     "name": "stdout",
     "output_type": "stream",
     "text": [
      "['travel going green bullish', 'let’s go mooning today', 'Analysts on US stock markets: 1. On Monday BlackRock downgraded US stocks from “overweight” to “neutral.” 2. Gary Shilling is very bearish on stock markets. He expects them to crash between 30% and 40% over the next year. 3. If Biden becomes president and raises taxes that President Trump lowered it could lead to upheaval and a possible crash in US stock markets. marketrealist.com/2020/07/w...', 'more China. China wants some of Australia lol🦘🦘🦘🦘', '“What Does The Institutional Ownership Tell Us About Greenlane Holdings? Many institutions measure their performance against an index that approximates the local market. So they usually pay more attention to companies that are included in major indices. We can see that Greenlane Holdings does have institutional investors; and they hold a good portion of the company’s stock. This implies the analysts working for those institutions have looked at the stock and they like it.” FB@risksavagemarket #watchthis simplywall.st/stocks/us/ret...']\n"
     ]
    }
   ],
   "source": [
    "# Create list_corpus\n",
    "token_list = data['tweet text'].tolist()\n",
    "list_corpus = []\n",
    "for tokens in token_list:\n",
    "    tokens = str(tokens) \n",
    "    tokens = tokens.replace(\"[\",\"\").replace(\"]\",\"\").replace(\"'\",\"\").replace(\",\",\"\")\n",
    "    list_corpus.append(tokens)\n",
    "print(list_corpus[:5])\n"
   ]
  },
  {
   "cell_type": "code",
   "execution_count": 7,
   "metadata": {},
   "outputs": [],
   "source": [
    "# Get labels\n",
    "list_labels = []\n",
    "for l in data['scores'].tolist():\n",
    "    label = int(l)\n",
    "    list_labels.append(label)"
   ]
  },
  {
   "cell_type": "code",
   "execution_count": 8,
   "metadata": {
    "scrolled": true
   },
   "outputs": [
    {
     "name": "stdout",
     "output_type": "stream",
     "text": [
      "['travel going green bullish', 'let’s go mooning today', 'Analysts on US stock markets: 1. On Monday BlackRock downgraded US stocks from “overweight” to “neutral.” 2. Gary Shilling is very bearish on stock markets. He expects them to crash between 30% and 40% over the next year. 3. If Biden becomes president and raises taxes that President Trump lowered it could lead to upheaval and a possible crash in US stock markets. marketrealist.com/2020/07/w...', 'more China. China wants some of Australia lol🦘🦘🦘🦘', '“What Does The Institutional Ownership Tell Us About Greenlane Holdings? Many institutions measure their performance against an index that approximates the local market. So they usually pay more attention to companies that are included in major indices. We can see that Greenlane Holdings does have institutional investors; and they hold a good portion of the company’s stock. This implies the analysts working for those institutions have looked at the stock and they like it.” FB@risksavagemarket #watchthis simplywall.st/stocks/us/ret...']\n",
      "[1, 1, 0, 0, 1]\n"
     ]
    }
   ],
   "source": [
    "#Do a check...\n",
    "print(list_corpus[:5])\n",
    "print(list_labels[:5])"
   ]
  },
  {
   "cell_type": "code",
   "execution_count": 9,
   "metadata": {},
   "outputs": [
    {
     "data": {
      "text/html": [
       "<div>\n",
       "<style scoped>\n",
       "    .dataframe tbody tr th:only-of-type {\n",
       "        vertical-align: middle;\n",
       "    }\n",
       "\n",
       "    .dataframe tbody tr th {\n",
       "        vertical-align: top;\n",
       "    }\n",
       "\n",
       "    .dataframe thead th {\n",
       "        text-align: right;\n",
       "    }\n",
       "</style>\n",
       "<table border=\"1\" class=\"dataframe\">\n",
       "  <thead>\n",
       "    <tr style=\"text-align: right;\">\n",
       "      <th></th>\n",
       "      <th>sentiment</th>\n",
       "      <th>scores</th>\n",
       "    </tr>\n",
       "  </thead>\n",
       "  <tbody>\n",
       "    <tr>\n",
       "      <th>0</th>\n",
       "      <td>Bullish</td>\n",
       "      <td>1</td>\n",
       "    </tr>\n",
       "    <tr>\n",
       "      <th>1</th>\n",
       "      <td>Bullish</td>\n",
       "      <td>1</td>\n",
       "    </tr>\n",
       "    <tr>\n",
       "      <th>2</th>\n",
       "      <td>Bearish</td>\n",
       "      <td>0</td>\n",
       "    </tr>\n",
       "    <tr>\n",
       "      <th>3</th>\n",
       "      <td>Bearish</td>\n",
       "      <td>0</td>\n",
       "    </tr>\n",
       "    <tr>\n",
       "      <th>4</th>\n",
       "      <td>Bullish</td>\n",
       "      <td>1</td>\n",
       "    </tr>\n",
       "  </tbody>\n",
       "</table>\n",
       "</div>"
      ],
      "text/plain": [
       "  sentiment  scores\n",
       "0   Bullish       1\n",
       "1   Bullish       1\n",
       "2   Bearish       0\n",
       "3   Bearish       0\n",
       "4   Bullish       1"
      ]
     },
     "execution_count": 9,
     "metadata": {},
     "output_type": "execute_result"
    }
   ],
   "source": [
    "data[['sentiment','scores']].head()"
   ]
  },
  {
   "cell_type": "markdown",
   "metadata": {},
   "source": [
    "## Column combination of 'user' and 'tweet text' columns "
   ]
  },
  {
   "cell_type": "code",
   "execution_count": 10,
   "metadata": {},
   "outputs": [
    {
     "data": {
      "text/html": [
       "<div>\n",
       "<style scoped>\n",
       "    .dataframe tbody tr th:only-of-type {\n",
       "        vertical-align: middle;\n",
       "    }\n",
       "\n",
       "    .dataframe tbody tr th {\n",
       "        vertical-align: top;\n",
       "    }\n",
       "\n",
       "    .dataframe thead th {\n",
       "        text-align: right;\n",
       "    }\n",
       "</style>\n",
       "<table border=\"1\" class=\"dataframe\">\n",
       "  <thead>\n",
       "    <tr style=\"text-align: right;\">\n",
       "      <th></th>\n",
       "      <th>user</th>\n",
       "      <th>message_id</th>\n",
       "      <th>sentiment</th>\n",
       "      <th>content</th>\n",
       "      <th>date</th>\n",
       "      <th>time</th>\n",
       "      <th>securities</th>\n",
       "      <th>tweet text</th>\n",
       "      <th>tokens</th>\n",
       "      <th>num_of_tokens</th>\n",
       "      <th>tokens_in_transformed_text</th>\n",
       "      <th>num_of_tokens_in_transformed_text</th>\n",
       "      <th>scores</th>\n",
       "      <th>data_comb</th>\n",
       "    </tr>\n",
       "  </thead>\n",
       "  <tbody>\n",
       "    <tr>\n",
       "      <th>0</th>\n",
       "      <td>babybounce</td>\n",
       "      <td>/babybounce/message/226382374</td>\n",
       "      <td>Bullish</td>\n",
       "      <td>$BA travel going green bullish $CCL $RCL $NCLH...</td>\n",
       "      <td>09/07/2020</td>\n",
       "      <td>12:21:03</td>\n",
       "      <td>['$BA', '$CCL', '$RCL', '$NCLH', '$SPY']</td>\n",
       "      <td>travel going green bullish</td>\n",
       "      <td>['travel', 'going', 'green', 'bullish']</td>\n",
       "      <td>4</td>\n",
       "      <td>['travel', 'go', 'green', 'bullish']</td>\n",
       "      <td>4</td>\n",
       "      <td>1</td>\n",
       "      <td>babybounce travel going green bullish</td>\n",
       "    </tr>\n",
       "    <tr>\n",
       "      <th>1</th>\n",
       "      <td>L1_Trading</td>\n",
       "      <td>/L1_Trading/message/226381562</td>\n",
       "      <td>Bullish</td>\n",
       "      <td>$SPY let’s go mooning today</td>\n",
       "      <td>09/07/2020</td>\n",
       "      <td>12:21:03</td>\n",
       "      <td>['$SPY']</td>\n",
       "      <td>let’s go mooning today</td>\n",
       "      <td>['let', 'go', 'mooning', 'today']</td>\n",
       "      <td>4</td>\n",
       "      <td>['let', 'go', 'moon', 'today']</td>\n",
       "      <td>4</td>\n",
       "      <td>1</td>\n",
       "      <td>L1_Trading let’s go mooning today</td>\n",
       "    </tr>\n",
       "    <tr>\n",
       "      <th>2</th>\n",
       "      <td>Economist4401</td>\n",
       "      <td>/Economist4401/message/226381511</td>\n",
       "      <td>Bearish</td>\n",
       "      <td>$SPY $SPX $DJIA $DIA $QQQ Analysts on US stock...</td>\n",
       "      <td>09/07/2020</td>\n",
       "      <td>12:21:03</td>\n",
       "      <td>['$SPY', '$SPX', '$DJIA', '$DIA', '$QQQ']</td>\n",
       "      <td>Analysts on US stock markets: 1. On Monday, Bl...</td>\n",
       "      <td>['analysts', 'us', 'stock', 'markets', 'monday...</td>\n",
       "      <td>58</td>\n",
       "      <td>['analyst', 'us', 'stock', 'market', 'monday',...</td>\n",
       "      <td>37</td>\n",
       "      <td>0</td>\n",
       "      <td>Economist4401 Analysts on US stock markets: 1....</td>\n",
       "    </tr>\n",
       "  </tbody>\n",
       "</table>\n",
       "</div>"
      ],
      "text/plain": [
       "            user                        message_id sentiment  \\\n",
       "0     babybounce     /babybounce/message/226382374   Bullish   \n",
       "1     L1_Trading     /L1_Trading/message/226381562   Bullish   \n",
       "2  Economist4401  /Economist4401/message/226381511   Bearish   \n",
       "\n",
       "                                             content        date      time  \\\n",
       "0  $BA travel going green bullish $CCL $RCL $NCLH...  09/07/2020  12:21:03   \n",
       "1                        $SPY let’s go mooning today  09/07/2020  12:21:03   \n",
       "2  $SPY $SPX $DJIA $DIA $QQQ Analysts on US stock...  09/07/2020  12:21:03   \n",
       "\n",
       "                                  securities  \\\n",
       "0   ['$BA', '$CCL', '$RCL', '$NCLH', '$SPY']   \n",
       "1                                   ['$SPY']   \n",
       "2  ['$SPY', '$SPX', '$DJIA', '$DIA', '$QQQ']   \n",
       "\n",
       "                                          tweet text  \\\n",
       "0                         travel going green bullish   \n",
       "1                             let’s go mooning today   \n",
       "2  Analysts on US stock markets: 1. On Monday, Bl...   \n",
       "\n",
       "                                              tokens  num_of_tokens  \\\n",
       "0            ['travel', 'going', 'green', 'bullish']              4   \n",
       "1                  ['let', 'go', 'mooning', 'today']              4   \n",
       "2  ['analysts', 'us', 'stock', 'markets', 'monday...             58   \n",
       "\n",
       "                          tokens_in_transformed_text  \\\n",
       "0               ['travel', 'go', 'green', 'bullish']   \n",
       "1                     ['let', 'go', 'moon', 'today']   \n",
       "2  ['analyst', 'us', 'stock', 'market', 'monday',...   \n",
       "\n",
       "   num_of_tokens_in_transformed_text  scores  \\\n",
       "0                                  4       1   \n",
       "1                                  4       1   \n",
       "2                                 37       0   \n",
       "\n",
       "                                           data_comb  \n",
       "0              babybounce travel going green bullish  \n",
       "1                  L1_Trading let’s go mooning today  \n",
       "2  Economist4401 Analysts on US stock markets: 1....  "
      ]
     },
     "execution_count": 10,
     "metadata": {},
     "output_type": "execute_result"
    }
   ],
   "source": [
    "\n",
    "#df = pd.DataFrame(data[['user','tweet text']]).astype(str)\n",
    "data['data_comb'] = data['user'].astype(str) + ' '+ data['tweet text'].astype(str)\n",
    "#df[data_comb] = df[['user','tweet text']].apply(lambda x: ''.join(x), axis=1)\n",
    "data.head(3)\n"
   ]
  },
  {
   "cell_type": "code",
   "execution_count": 11,
   "metadata": {},
   "outputs": [
    {
     "name": "stdout",
     "output_type": "stream",
     "text": [
      "['babybounce travel going green bullish', 'L1_Trading let’s go mooning today', 'Economist4401 Analysts on US stock markets: 1. On Monday BlackRock downgraded US stocks from “overweight” to “neutral.” 2. Gary Shilling is very bearish on stock markets. He expects them to crash between 30% and 40% over the next year. 3. If Biden becomes president and raises taxes that President Trump lowered it could lead to upheaval and a possible crash in US stock markets. marketrealist.com/2020/07/w...', 'OkieOkie more China. China wants some of Australia lol🦘🦘🦘🦘', 'risksavage_inthemarket “What Does The Institutional Ownership Tell Us About Greenlane Holdings? Many institutions measure their performance against an index that approximates the local market. So they usually pay more attention to companies that are included in major indices. We can see that Greenlane Holdings does have institutional investors; and they hold a good portion of the company’s stock. This implies the analysts working for those institutions have looked at the stock and they like it.” FB@risksavagemarket #watchthis simplywall.st/stocks/us/ret...']\n"
     ]
    }
   ],
   "source": [
    "# Create list_corpus\n",
    "token_list = data['data_comb'].tolist()\n",
    "list_corpus = []\n",
    "for tokens in token_list:\n",
    "    tokens = str(tokens) \n",
    "    tokens = tokens.replace(\"[\",\"\").replace(\"]\",\"\").replace(\"'\",\"\").replace(\",\",\"\")\n",
    "    list_corpus.append(tokens)\n",
    "print(list_corpus[:5])\n"
   ]
  },
  {
   "cell_type": "code",
   "execution_count": 12,
   "metadata": {},
   "outputs": [
    {
     "name": "stdout",
     "output_type": "stream",
     "text": [
      "['babybounce travel going green bullish', 'L1_Trading let’s go mooning today', 'Economist4401 Analysts on US stock markets: 1. On Monday BlackRock downgraded US stocks from “overweight” to “neutral.” 2. Gary Shilling is very bearish on stock markets. He expects them to crash between 30% and 40% over the next year. 3. If Biden becomes president and raises taxes that President Trump lowered it could lead to upheaval and a possible crash in US stock markets. marketrealist.com/2020/07/w...', 'OkieOkie more China. China wants some of Australia lol🦘🦘🦘🦘', 'risksavage_inthemarket “What Does The Institutional Ownership Tell Us About Greenlane Holdings? Many institutions measure their performance against an index that approximates the local market. So they usually pay more attention to companies that are included in major indices. We can see that Greenlane Holdings does have institutional investors; and they hold a good portion of the company’s stock. This implies the analysts working for those institutions have looked at the stock and they like it.” FB@risksavagemarket #watchthis simplywall.st/stocks/us/ret...']\n",
      "[1, 1, 0, 0, 1]\n"
     ]
    }
   ],
   "source": [
    "#Do a check...\n",
    "print(list_corpus[:5])\n",
    "print(list_labels[:5])"
   ]
  },
  {
   "cell_type": "code",
   "execution_count": 13,
   "metadata": {},
   "outputs": [
    {
     "data": {
      "text/html": [
       "<div>\n",
       "<style scoped>\n",
       "    .dataframe tbody tr th:only-of-type {\n",
       "        vertical-align: middle;\n",
       "    }\n",
       "\n",
       "    .dataframe tbody tr th {\n",
       "        vertical-align: top;\n",
       "    }\n",
       "\n",
       "    .dataframe thead th {\n",
       "        text-align: right;\n",
       "    }\n",
       "</style>\n",
       "<table border=\"1\" class=\"dataframe\">\n",
       "  <thead>\n",
       "    <tr style=\"text-align: right;\">\n",
       "      <th></th>\n",
       "      <th>sentiment</th>\n",
       "      <th>scores</th>\n",
       "    </tr>\n",
       "  </thead>\n",
       "  <tbody>\n",
       "    <tr>\n",
       "      <th>0</th>\n",
       "      <td>Bullish</td>\n",
       "      <td>1</td>\n",
       "    </tr>\n",
       "    <tr>\n",
       "      <th>1</th>\n",
       "      <td>Bullish</td>\n",
       "      <td>1</td>\n",
       "    </tr>\n",
       "    <tr>\n",
       "      <th>2</th>\n",
       "      <td>Bearish</td>\n",
       "      <td>0</td>\n",
       "    </tr>\n",
       "    <tr>\n",
       "      <th>3</th>\n",
       "      <td>Bearish</td>\n",
       "      <td>0</td>\n",
       "    </tr>\n",
       "    <tr>\n",
       "      <th>4</th>\n",
       "      <td>Bullish</td>\n",
       "      <td>1</td>\n",
       "    </tr>\n",
       "  </tbody>\n",
       "</table>\n",
       "</div>"
      ],
      "text/plain": [
       "  sentiment  scores\n",
       "0   Bullish       1\n",
       "1   Bullish       1\n",
       "2   Bearish       0\n",
       "3   Bearish       0\n",
       "4   Bullish       1"
      ]
     },
     "execution_count": 13,
     "metadata": {},
     "output_type": "execute_result"
    }
   ],
   "source": [
    "data[['sentiment','scores']].head()"
   ]
  },
  {
   "cell_type": "code",
   "execution_count": 14,
   "metadata": {},
   "outputs": [],
   "source": [
    "# Convert all review documents to a sparse matrix of token counts\n",
    "vectorizer = TfidfVectorizer() \n",
    "termDocumentMatrix = vectorizer.fit_transform(list_corpus) #this needs to include encoded tokens"
   ]
  },
  {
   "cell_type": "code",
   "execution_count": 15,
   "metadata": {},
   "outputs": [
    {
     "data": {
      "text/plain": [
       "(24284, 23636)"
      ]
     },
     "execution_count": 15,
     "metadata": {},
     "output_type": "execute_result"
    }
   ],
   "source": [
    "termDocumentMatrix.shape #add additional column - 'user_encoded'"
   ]
  },
  {
   "cell_type": "code",
   "execution_count": 16,
   "metadata": {},
   "outputs": [],
   "source": [
    "#Split the training dataset into two sections: \n",
    "x_train_cb, x_test_cb, y_train_cb, y_test_cb = train_test_split(termDocumentMatrix, list_labels, test_size = 0.2)"
   ]
  },
  {
   "cell_type": "code",
   "execution_count": 17,
   "metadata": {},
   "outputs": [],
   "source": [
    "from sklearn.ensemble import GradientBoostingClassifier"
   ]
  },
  {
   "cell_type": "code",
   "execution_count": 18,
   "metadata": {},
   "outputs": [],
   "source": [
    "gb_cb = GradientBoostingClassifier()"
   ]
  },
  {
   "cell_type": "code",
   "execution_count": 19,
   "metadata": {},
   "outputs": [
    {
     "data": {
      "text/plain": [
       "GradientBoostingClassifier(ccp_alpha=0.0, criterion='friedman_mse', init=None,\n",
       "                           learning_rate=0.1, loss='deviance', max_depth=3,\n",
       "                           max_features=None, max_leaf_nodes=None,\n",
       "                           min_impurity_decrease=0.0, min_impurity_split=None,\n",
       "                           min_samples_leaf=1, min_samples_split=2,\n",
       "                           min_weight_fraction_leaf=0.0, n_estimators=100,\n",
       "                           n_iter_no_change=None, presort='deprecated',\n",
       "                           random_state=None, subsample=1.0, tol=0.0001,\n",
       "                           validation_fraction=0.1, verbose=0,\n",
       "                           warm_start=False)"
      ]
     },
     "execution_count": 19,
     "metadata": {},
     "output_type": "execute_result"
    }
   ],
   "source": [
    "gb_cb.fit(x_train_cb, y_train_cb)"
   ]
  },
  {
   "cell_type": "code",
   "execution_count": 20,
   "metadata": {},
   "outputs": [],
   "source": [
    "y_predicted_counts_gb_cb = gb_cb.predict(x_test_cb)"
   ]
  },
  {
   "cell_type": "code",
   "execution_count": 21,
   "metadata": {},
   "outputs": [],
   "source": [
    "accuracy_gb_cb, precision_gb_cb, recall_gb_cb, f1_gb_cb = get_metrics(y_test_cb, y_predicted_counts_gb_cb)"
   ]
  },
  {
   "cell_type": "code",
   "execution_count": 22,
   "metadata": {},
   "outputs": [
    {
     "data": {
      "text/plain": [
       "(0.7315215153386865,\n",
       " 0.7585276122386221,\n",
       " 0.7315215153386865,\n",
       " 0.7122321599380751)"
      ]
     },
     "execution_count": 22,
     "metadata": {},
     "output_type": "execute_result"
    }
   ],
   "source": [
    "accuracy_gb_cb, precision_gb_cb, recall_gb_cb, f1_gb_cb"
   ]
  },
  {
   "cell_type": "code",
   "execution_count": 23,
   "metadata": {},
   "outputs": [
    {
     "name": "stdout",
     "output_type": "stream",
     "text": [
      "data = cleaned Dataset: vectorizer = TfidfVectorizer, accuracy = 0.732, precision = 0.759, recall = 0.732, f1 = 0.712\n",
      "data = cleaned Dataset: vectorizer = CountVectorizer, accuracy = 0.732, precision = 0.759, recall = 0.732, f1 = 0.712\n"
     ]
    },
    {
     "data": {
      "image/png": "[encoded data removed]",
      "text/plain": [
       "<Figure size 432x288 with 2 Axes>"
      ]
     },
     "metadata": {
      "needs_background": "light"
     },
     "output_type": "display_data"
    },
    {
     "name": "stdout",
     "output_type": "stream",
     "text": [
      "[[2585  186]\n",
      " [1118  968]]\n"
     ]
    }
   ],
   "source": [
    "print(\"data = cleaned Dataset: vectorizer = TfidfVectorizer, accuracy = %.3f, precision = %.3f, recall = %.3f, f1 = %.3f\" % (accuracy_gb_cb, precision_gb_cb, recall_gb_cb, f1_gb_cb))\n",
    "import pylab as pl\n",
    "import matplotlib.pyplot as plt\n",
    "print(\"data = cleaned Dataset: vectorizer = CountVectorizer, accuracy = %.3f, precision = %.3f, recall = %.3f, f1 = %.3f\" % (accuracy_gb_cb, precision_gb_cb, recall_gb_cb, f1_gb_cb))\n",
    "labels = [1,0]\n",
    "cm = metrics.confusion_matrix(y_test_cb,y_predicted_counts_gb_cb, labels)\n",
    "fig = plt.figure()\n",
    "ax = fig.add_subplot(111)\n",
    "cax = ax.matshow(cm)\n",
    "plt.title('Confusion matrix of the classifier')\n",
    "fig.colorbar(cax)\n",
    "ax.set_xticklabels([''] + labels)\n",
    "ax.set_yticklabels([''] + labels)\n",
    "plt.xlabel('Predicted')\n",
    "plt.ylabel('True')\n",
    "plt.show()\n",
    "print(cm)"
   ]
  },
  {
   "cell_type": "code",
   "execution_count": 24,
   "metadata": {},
   "outputs": [],
   "source": [
    "#Create a Multinominal Classifier\n",
    "mnb_cb = MultinomialNB()"
   ]
  },
  {
   "cell_type": "code",
   "execution_count": 25,
   "metadata": {},
   "outputs": [
    {
     "data": {
      "text/plain": [
       "MultinomialNB(alpha=1.0, class_prior=None, fit_prior=True)"
      ]
     },
     "execution_count": 25,
     "metadata": {},
     "output_type": "execute_result"
    }
   ],
   "source": [
    "#Train the model using the training sets\n",
    "mnb_cb.fit(x_train_cb, y_train_cb)"
   ]
  },
  {
   "cell_type": "code",
   "execution_count": 26,
   "metadata": {},
   "outputs": [],
   "source": [
    "#Predict the response for test dataset\n",
    "y_predicted_counts_cb = mnb_cb.predict(x_test_cb)"
   ]
  },
  {
   "cell_type": "code",
   "execution_count": 27,
   "metadata": {},
   "outputs": [],
   "source": [
    "accuracy_cb, precision_cb ,recall_cb, f1_cb = get_metrics(y_test_cb, y_predicted_counts_cb)"
   ]
  },
  {
   "cell_type": "code",
   "execution_count": 28,
   "metadata": {},
   "outputs": [
    {
     "data": {
      "text/plain": [
       "(0.8587605517809347,\n",
       " 0.8614638035738332,\n",
       " 0.8587605517809347,\n",
       " 0.8570605059598729)"
      ]
     },
     "execution_count": 28,
     "metadata": {},
     "output_type": "execute_result"
    }
   ],
   "source": [
    "accuracy_cb, precision_cb ,recall_cb, f1_cb"
   ]
  },
  {
   "cell_type": "code",
   "execution_count": 29,
   "metadata": {},
   "outputs": [
    {
     "name": "stdout",
     "output_type": "stream",
     "text": [
      "data = cleaned Dataset: vectorizer = TfidfVectorizer, accuracy = 0.859, precision = 0.861, recall = 0.859, f1 = 0.857\n",
      "data = cleaned Dataset: vectorizer = CountVectorizer, accuracy = 0.859, precision = 0.861, recall = 0.859, f1 = 0.857\n"
     ]
    },
    {
     "data": {
      "image/png": "[encoded data removed]",
      "text/plain": [
       "<Figure size 432x288 with 2 Axes>"
      ]
     },
     "metadata": {
      "needs_background": "light"
     },
     "output_type": "display_data"
    },
    {
     "name": "stdout",
     "output_type": "stream",
     "text": [
      "[[2569  202]\n",
      " [ 484 1602]]\n"
     ]
    }
   ],
   "source": [
    "print(\"data = cleaned Dataset: vectorizer = TfidfVectorizer, accuracy = %.3f, precision = %.3f, recall = %.3f, f1 = %.3f\" % (accuracy_cb, precision_cb ,recall_cb, f1_cb))\n",
    "import pylab as pl\n",
    "import matplotlib.pyplot as plt\n",
    "print(\"data = cleaned Dataset: vectorizer = CountVectorizer, accuracy = %.3f, precision = %.3f, recall = %.3f, f1 = %.3f\" % (accuracy_cb, precision_cb ,recall_cb, f1_cb))\n",
    "labels = [1,0]\n",
    "cm = metrics.confusion_matrix(y_test_cb,y_predicted_counts_cb, labels)\n",
    "fig = plt.figure()\n",
    "ax = fig.add_subplot(111)\n",
    "cax = ax.matshow(cm)\n",
    "plt.title('Confusion matrix of the classifier')\n",
    "fig.colorbar(cax)\n",
    "ax.set_xticklabels([''] + labels)\n",
    "ax.set_yticklabels([''] + labels)\n",
    "plt.xlabel('Predicted')\n",
    "plt.ylabel('True')\n",
    "plt.show()\n",
    "print(cm)"
   ]
  },
  {
   "cell_type": "code",
   "execution_count": null,
   "metadata": {},
   "outputs": [],
   "source": []
  },
  {
   "cell_type": "markdown",
   "metadata": {},
   "source": [
    "## Combining 'user', 'tweet text' and 'securities' columns"
   ]
  },
  {
   "cell_type": "code",
   "execution_count": 30,
   "metadata": {},
   "outputs": [],
   "source": [
    "data['data_comb_plus'] = data['user'].astype(str) + ' '+ data['tweet text'].astype(str) + ' '+ data['securities'].astype(str)"
   ]
  },
  {
   "cell_type": "code",
   "execution_count": 31,
   "metadata": {},
   "outputs": [
    {
     "data": {
      "text/html": [
       "<div>\n",
       "<style scoped>\n",
       "    .dataframe tbody tr th:only-of-type {\n",
       "        vertical-align: middle;\n",
       "    }\n",
       "\n",
       "    .dataframe tbody tr th {\n",
       "        vertical-align: top;\n",
       "    }\n",
       "\n",
       "    .dataframe thead th {\n",
       "        text-align: right;\n",
       "    }\n",
       "</style>\n",
       "<table border=\"1\" class=\"dataframe\">\n",
       "  <thead>\n",
       "    <tr style=\"text-align: right;\">\n",
       "      <th></th>\n",
       "      <th>user</th>\n",
       "      <th>message_id</th>\n",
       "      <th>sentiment</th>\n",
       "      <th>content</th>\n",
       "      <th>date</th>\n",
       "      <th>time</th>\n",
       "      <th>securities</th>\n",
       "      <th>tweet text</th>\n",
       "      <th>tokens</th>\n",
       "      <th>num_of_tokens</th>\n",
       "      <th>tokens_in_transformed_text</th>\n",
       "      <th>num_of_tokens_in_transformed_text</th>\n",
       "      <th>scores</th>\n",
       "      <th>data_comb</th>\n",
       "      <th>data_comb_plus</th>\n",
       "    </tr>\n",
       "  </thead>\n",
       "  <tbody>\n",
       "    <tr>\n",
       "      <th>0</th>\n",
       "      <td>babybounce</td>\n",
       "      <td>/babybounce/message/226382374</td>\n",
       "      <td>Bullish</td>\n",
       "      <td>$BA travel going green bullish $CCL $RCL $NCLH...</td>\n",
       "      <td>09/07/2020</td>\n",
       "      <td>12:21:03</td>\n",
       "      <td>['$BA', '$CCL', '$RCL', '$NCLH', '$SPY']</td>\n",
       "      <td>travel going green bullish</td>\n",
       "      <td>['travel', 'going', 'green', 'bullish']</td>\n",
       "      <td>4</td>\n",
       "      <td>['travel', 'go', 'green', 'bullish']</td>\n",
       "      <td>4</td>\n",
       "      <td>1</td>\n",
       "      <td>babybounce travel going green bullish</td>\n",
       "      <td>babybounce travel going green bullish ['$BA', ...</td>\n",
       "    </tr>\n",
       "    <tr>\n",
       "      <th>1</th>\n",
       "      <td>L1_Trading</td>\n",
       "      <td>/L1_Trading/message/226381562</td>\n",
       "      <td>Bullish</td>\n",
       "      <td>$SPY let’s go mooning today</td>\n",
       "      <td>09/07/2020</td>\n",
       "      <td>12:21:03</td>\n",
       "      <td>['$SPY']</td>\n",
       "      <td>let’s go mooning today</td>\n",
       "      <td>['let', 'go', 'mooning', 'today']</td>\n",
       "      <td>4</td>\n",
       "      <td>['let', 'go', 'moon', 'today']</td>\n",
       "      <td>4</td>\n",
       "      <td>1</td>\n",
       "      <td>L1_Trading let’s go mooning today</td>\n",
       "      <td>L1_Trading let’s go mooning today ['$SPY']</td>\n",
       "    </tr>\n",
       "    <tr>\n",
       "      <th>2</th>\n",
       "      <td>Economist4401</td>\n",
       "      <td>/Economist4401/message/226381511</td>\n",
       "      <td>Bearish</td>\n",
       "      <td>$SPY $SPX $DJIA $DIA $QQQ Analysts on US stock...</td>\n",
       "      <td>09/07/2020</td>\n",
       "      <td>12:21:03</td>\n",
       "      <td>['$SPY', '$SPX', '$DJIA', '$DIA', '$QQQ']</td>\n",
       "      <td>Analysts on US stock markets: 1. On Monday, Bl...</td>\n",
       "      <td>['analysts', 'us', 'stock', 'markets', 'monday...</td>\n",
       "      <td>58</td>\n",
       "      <td>['analyst', 'us', 'stock', 'market', 'monday',...</td>\n",
       "      <td>37</td>\n",
       "      <td>0</td>\n",
       "      <td>Economist4401 Analysts on US stock markets: 1....</td>\n",
       "      <td>Economist4401 Analysts on US stock markets: 1....</td>\n",
       "    </tr>\n",
       "  </tbody>\n",
       "</table>\n",
       "</div>"
      ],
      "text/plain": [
       "            user                        message_id sentiment  \\\n",
       "0     babybounce     /babybounce/message/226382374   Bullish   \n",
       "1     L1_Trading     /L1_Trading/message/226381562   Bullish   \n",
       "2  Economist4401  /Economist4401/message/226381511   Bearish   \n",
       "\n",
       "                                             content        date      time  \\\n",
       "0  $BA travel going green bullish $CCL $RCL $NCLH...  09/07/2020  12:21:03   \n",
       "1                        $SPY let’s go mooning today  09/07/2020  12:21:03   \n",
       "2  $SPY $SPX $DJIA $DIA $QQQ Analysts on US stock...  09/07/2020  12:21:03   \n",
       "\n",
       "                                  securities  \\\n",
       "0   ['$BA', '$CCL', '$RCL', '$NCLH', '$SPY']   \n",
       "1                                   ['$SPY']   \n",
       "2  ['$SPY', '$SPX', '$DJIA', '$DIA', '$QQQ']   \n",
       "\n",
       "                                          tweet text  \\\n",
       "0                         travel going green bullish   \n",
       "1                             let’s go mooning today   \n",
       "2  Analysts on US stock markets: 1. On Monday, Bl...   \n",
       "\n",
       "                                              tokens  num_of_tokens  \\\n",
       "0            ['travel', 'going', 'green', 'bullish']              4   \n",
       "1                  ['let', 'go', 'mooning', 'today']              4   \n",
       "2  ['analysts', 'us', 'stock', 'markets', 'monday...             58   \n",
       "\n",
       "                          tokens_in_transformed_text  \\\n",
       "0               ['travel', 'go', 'green', 'bullish']   \n",
       "1                     ['let', 'go', 'moon', 'today']   \n",
       "2  ['analyst', 'us', 'stock', 'market', 'monday',...   \n",
       "\n",
       "   num_of_tokens_in_transformed_text  scores  \\\n",
       "0                                  4       1   \n",
       "1                                  4       1   \n",
       "2                                 37       0   \n",
       "\n",
       "                                           data_comb  \\\n",
       "0              babybounce travel going green bullish   \n",
       "1                  L1_Trading let’s go mooning today   \n",
       "2  Economist4401 Analysts on US stock markets: 1....   \n",
       "\n",
       "                                      data_comb_plus  \n",
       "0  babybounce travel going green bullish ['$BA', ...  \n",
       "1         L1_Trading let’s go mooning today ['$SPY']  \n",
       "2  Economist4401 Analysts on US stock markets: 1....  "
      ]
     },
     "execution_count": 31,
     "metadata": {},
     "output_type": "execute_result"
    }
   ],
   "source": [
    "data.head(3)"
   ]
  },
  {
   "cell_type": "code",
   "execution_count": 32,
   "metadata": {},
   "outputs": [
    {
     "name": "stdout",
     "output_type": "stream",
     "text": [
      "['babybounce travel going green bullish $BA $CCL $RCL $NCLH $SPY', 'L1_Trading let’s go mooning today $SPY', 'Economist4401 Analysts on US stock markets: 1. On Monday BlackRock downgraded US stocks from “overweight” to “neutral.” 2. Gary Shilling is very bearish on stock markets. He expects them to crash between 30% and 40% over the next year. 3. If Biden becomes president and raises taxes that President Trump lowered it could lead to upheaval and a possible crash in US stock markets. marketrealist.com/2020/07/w... $SPY $SPX $DJIA $DIA $QQQ', 'OkieOkie more China. China wants some of Australia lol🦘🦘🦘🦘 $SPY', 'risksavage_inthemarket “What Does The Institutional Ownership Tell Us About Greenlane Holdings? Many institutions measure their performance against an index that approximates the local market. So they usually pay more attention to companies that are included in major indices. We can see that Greenlane Holdings does have institutional investors; and they hold a good portion of the company’s stock. This implies the analysts working for those institutions have looked at the stock and they like it.” FB@risksavagemarket #watchthis simplywall.st/stocks/us/ret... $GNLN $CGC $SPY $KERN $PM']\n"
     ]
    }
   ],
   "source": [
    "# Create list_corpus\n",
    "token_list_plus = data['data_comb_plus'].tolist()\n",
    "list_corpus_plus = []\n",
    "for tokens in token_list_plus:\n",
    "    tokens = str(tokens) \n",
    "    tokens = tokens.replace(\"[\",\"\").replace(\"]\",\"\").replace(\"'\",\"\").replace(\",\",\"\")\n",
    "    list_corpus_plus.append(tokens)\n",
    "print(list_corpus_plus[:5])"
   ]
  },
  {
   "cell_type": "code",
   "execution_count": 33,
   "metadata": {},
   "outputs": [
    {
     "data": {
      "text/html": [
       "<div>\n",
       "<style scoped>\n",
       "    .dataframe tbody tr th:only-of-type {\n",
       "        vertical-align: middle;\n",
       "    }\n",
       "\n",
       "    .dataframe tbody tr th {\n",
       "        vertical-align: top;\n",
       "    }\n",
       "\n",
       "    .dataframe thead th {\n",
       "        text-align: right;\n",
       "    }\n",
       "</style>\n",
       "<table border=\"1\" class=\"dataframe\">\n",
       "  <thead>\n",
       "    <tr style=\"text-align: right;\">\n",
       "      <th></th>\n",
       "      <th>sentiment</th>\n",
       "      <th>scores</th>\n",
       "    </tr>\n",
       "  </thead>\n",
       "  <tbody>\n",
       "    <tr>\n",
       "      <th>0</th>\n",
       "      <td>Bullish</td>\n",
       "      <td>1</td>\n",
       "    </tr>\n",
       "    <tr>\n",
       "      <th>1</th>\n",
       "      <td>Bullish</td>\n",
       "      <td>1</td>\n",
       "    </tr>\n",
       "    <tr>\n",
       "      <th>2</th>\n",
       "      <td>Bearish</td>\n",
       "      <td>0</td>\n",
       "    </tr>\n",
       "    <tr>\n",
       "      <th>3</th>\n",
       "      <td>Bearish</td>\n",
       "      <td>0</td>\n",
       "    </tr>\n",
       "    <tr>\n",
       "      <th>4</th>\n",
       "      <td>Bullish</td>\n",
       "      <td>1</td>\n",
       "    </tr>\n",
       "  </tbody>\n",
       "</table>\n",
       "</div>"
      ],
      "text/plain": [
       "  sentiment  scores\n",
       "0   Bullish       1\n",
       "1   Bullish       1\n",
       "2   Bearish       0\n",
       "3   Bearish       0\n",
       "4   Bullish       1"
      ]
     },
     "execution_count": 33,
     "metadata": {},
     "output_type": "execute_result"
    }
   ],
   "source": [
    "data[['sentiment','scores']].head()"
   ]
  },
  {
   "cell_type": "markdown",
   "metadata": {},
   "source": []
  },
  {
   "cell_type": "markdown",
   "metadata": {},
   "source": [
    "### Gradient Boosting on 3 columns"
   ]
  },
  {
   "cell_type": "code",
   "execution_count": 34,
   "metadata": {},
   "outputs": [],
   "source": [
    "# Convert all review documents to a sparse matrix of token counts\n",
    "vectorizer = TfidfVectorizer() \n",
    "termDocumentMatrix = vectorizer.fit_transform(list_corpus_plus) #this needs to include encoded tokens"
   ]
  },
  {
   "cell_type": "code",
   "execution_count": 35,
   "metadata": {},
   "outputs": [],
   "source": [
    "#Split the training dataset into two sections: \n",
    "x_train_plus, x_test_plus, y_train_plus, y_test_plus = train_test_split(termDocumentMatrix, list_labels, test_size = 0.2)"
   ]
  },
  {
   "cell_type": "code",
   "execution_count": 36,
   "metadata": {},
   "outputs": [],
   "source": [
    "from sklearn.ensemble import GradientBoostingClassifier"
   ]
  },
  {
   "cell_type": "code",
   "execution_count": 37,
   "metadata": {},
   "outputs": [],
   "source": [
    "gb_plus = GradientBoostingClassifier()"
   ]
  },
  {
   "cell_type": "code",
   "execution_count": 38,
   "metadata": {},
   "outputs": [
    {
     "data": {
      "text/plain": [
       "GradientBoostingClassifier(ccp_alpha=0.0, criterion='friedman_mse', init=None,\n",
       "                           learning_rate=0.1, loss='deviance', max_depth=3,\n",
       "                           max_features=None, max_leaf_nodes=None,\n",
       "                           min_impurity_decrease=0.0, min_impurity_split=None,\n",
       "                           min_samples_leaf=1, min_samples_split=2,\n",
       "                           min_weight_fraction_leaf=0.0, n_estimators=100,\n",
       "                           n_iter_no_change=None, presort='deprecated',\n",
       "                           random_state=None, subsample=1.0, tol=0.0001,\n",
       "                           validation_fraction=0.1, verbose=0,\n",
       "                           warm_start=False)"
      ]
     },
     "execution_count": 38,
     "metadata": {},
     "output_type": "execute_result"
    }
   ],
   "source": [
    "gb_plus.fit(x_train_plus, y_train_plus)"
   ]
  },
  {
   "cell_type": "code",
   "execution_count": 39,
   "metadata": {},
   "outputs": [],
   "source": [
    "y_predicted_counts_gb_plus = gb_plus.predict(x_test_plus)"
   ]
  },
  {
   "cell_type": "code",
   "execution_count": 40,
   "metadata": {},
   "outputs": [],
   "source": [
    "accuracy_gb_plus, precision_gb_plus, recall_gb_plus, f1_gb_plus = get_metrics(y_test_plus, y_predicted_counts_gb_plus)"
   ]
  },
  {
   "cell_type": "code",
   "execution_count": 41,
   "metadata": {},
   "outputs": [
    {
     "data": {
      "text/plain": [
       "(0.7274037471690343,\n",
       " 0.7554331571517101,\n",
       " 0.7274037471690343,\n",
       " 0.7072743941429896)"
      ]
     },
     "execution_count": 41,
     "metadata": {},
     "output_type": "execute_result"
    }
   ],
   "source": [
    "accuracy_gb_plus, precision_gb_plus, recall_gb_plus, f1_gb_plus"
   ]
  },
  {
   "cell_type": "code",
   "execution_count": 42,
   "metadata": {},
   "outputs": [
    {
     "name": "stdout",
     "output_type": "stream",
     "text": [
      "data = cleaned Dataset: vectorizer = TfidfVectorizer, accuracy = 0.727, precision = 0.755, recall = 0.727, f1 = 0.707\n",
      "data = cleaned Dataset: vectorizer = CountVectorizer, accuracy = 0.727, precision = 0.755, recall = 0.727, f1 = 0.707\n"
     ]
    },
    {
     "data": {
      "image/png": "[encoded data removed]",
      "text/plain": [
       "<Figure size 432x288 with 2 Axes>"
      ]
     },
     "metadata": {
      "needs_background": "light"
     },
     "output_type": "display_data"
    },
    {
     "name": "stdout",
     "output_type": "stream",
     "text": [
      "[[2579  186]\n",
      " [1138  954]]\n"
     ]
    }
   ],
   "source": [
    "print(\"data = cleaned Dataset: vectorizer = TfidfVectorizer, accuracy = %.3f, precision = %.3f, recall = %.3f, f1 = %.3f\" % (accuracy_gb_plus, precision_gb_plus ,recall_gb_plus, f1_gb_plus))\n",
    "import pylab as pl\n",
    "import matplotlib.pyplot as plt\n",
    "print(\"data = cleaned Dataset: vectorizer = CountVectorizer, accuracy = %.3f, precision = %.3f, recall = %.3f, f1 = %.3f\" % (accuracy_gb_plus, precision_gb_plus ,recall_gb_plus, f1_gb_plus))\n",
    "labels = [1,0]\n",
    "cm = metrics.confusion_matrix(y_test_plus,y_predicted_counts_gb_plus, labels)\n",
    "fig = plt.figure()\n",
    "ax = fig.add_subplot(111)\n",
    "cax = ax.matshow(cm)\n",
    "plt.title('Confusion matrix of the classifier')\n",
    "fig.colorbar(cax)\n",
    "ax.set_xticklabels([''] + labels)\n",
    "ax.set_yticklabels([''] + labels)\n",
    "plt.xlabel('Predicted')\n",
    "plt.ylabel('True')\n",
    "plt.show()\n",
    "print(cm)"
   ]
  },
  {
   "cell_type": "code",
   "execution_count": null,
   "metadata": {},
   "outputs": [],
   "source": []
  },
  {
   "cell_type": "markdown",
   "metadata": {},
   "source": [
    "### Multinomial distribution on 3 columns"
   ]
  },
  {
   "cell_type": "code",
   "execution_count": 43,
   "metadata": {},
   "outputs": [],
   "source": [
    "#Create a Multinominal Classifier\n",
    "mnb = MultinomialNB()"
   ]
  },
  {
   "cell_type": "code",
   "execution_count": 44,
   "metadata": {},
   "outputs": [
    {
     "data": {
      "text/plain": [
       "MultinomialNB(alpha=1.0, class_prior=None, fit_prior=True)"
      ]
     },
     "execution_count": 44,
     "metadata": {},
     "output_type": "execute_result"
    }
   ],
   "source": [
    "#Train the model using the training sets\n",
    "mnb.fit(x_train_plus, y_train_plus)"
   ]
  },
  {
   "cell_type": "code",
   "execution_count": 45,
   "metadata": {},
   "outputs": [],
   "source": [
    "#Predict the response for test dataset\n",
    "y_predicted_counts_mnb_plus = mnb.predict(x_test_plus)"
   ]
  },
  {
   "cell_type": "code",
   "execution_count": 46,
   "metadata": {},
   "outputs": [],
   "source": [
    "accuracy_mnb_plus, precision_mnb_plus ,recall_mnb_plus, f1_mnb_plus = get_metrics(y_test_plus, y_predicted_counts_mnb_plus)"
   ]
  },
  {
   "cell_type": "code",
   "execution_count": 47,
   "metadata": {},
   "outputs": [
    {
     "data": {
      "text/plain": [
       "(0.8593782170063825,\n",
       " 0.8616195314248393,\n",
       " 0.8593782170063825,\n",
       " 0.8578542210080826)"
      ]
     },
     "execution_count": 47,
     "metadata": {},
     "output_type": "execute_result"
    }
   ],
   "source": [
    "accuracy_mnb_plus, precision_mnb_plus ,recall_mnb_plus, f1_mnb_plus"
   ]
  },
  {
   "cell_type": "code",
   "execution_count": 48,
   "metadata": {},
   "outputs": [
    {
     "name": "stdout",
     "output_type": "stream",
     "text": [
      "data = cleaned Dataset: vectorizer = TfidfVectorizer, accuracy = 0.859, precision = 0.862, recall = 0.859, f1 = 0.858\n",
      "data = cleaned Dataset: vectorizer = CountVectorizer, accuracy = 0.859, precision = 0.862, recall = 0.859, f1 = 0.858\n"
     ]
    },
    {
     "data": {
      "image/png": "[encoded data removed]",
      "text/plain": [
       "<Figure size 432x288 with 2 Axes>"
      ]
     },
     "metadata": {
      "needs_background": "light"
     },
     "output_type": "display_data"
    },
    {
     "name": "stdout",
     "output_type": "stream",
     "text": [
      "[[2555  210]\n",
      " [ 473 1619]]\n"
     ]
    }
   ],
   "source": [
    "print(\"data = cleaned Dataset: vectorizer = TfidfVectorizer, accuracy = %.3f, precision = %.3f, recall = %.3f, f1 = %.3f\" % (accuracy_mnb_plus, precision_mnb_plus ,recall_mnb_plus, f1_mnb_plus))\n",
    "import pylab as pl\n",
    "import matplotlib.pyplot as plt\n",
    "print(\"data = cleaned Dataset: vectorizer = CountVectorizer, accuracy = %.3f, precision = %.3f, recall = %.3f, f1 = %.3f\" % (accuracy_mnb_plus, precision_mnb_plus ,recall_mnb_plus, f1_mnb_plus))\n",
    "labels = [1,0]\n",
    "cm = metrics.confusion_matrix(y_test_plus,y_predicted_counts_mnb_plus, labels)\n",
    "fig = plt.figure()\n",
    "ax = fig.add_subplot(111)\n",
    "cax = ax.matshow(cm)\n",
    "plt.title('Confusion matrix of the classifier')\n",
    "fig.colorbar(cax)\n",
    "ax.set_xticklabels([''] + labels)\n",
    "ax.set_yticklabels([''] + labels)\n",
    "plt.xlabel('Predicted')\n",
    "plt.ylabel('True')\n",
    "plt.show()\n",
    "print(cm)"
   ]
  },
  {
   "cell_type": "code",
   "execution_count": null,
   "metadata": {},
   "outputs": [],
   "source": []
  },
  {
   "cell_type": "markdown",
   "metadata": {},
   "source": [
    "### Cross fold validation "
   ]
  },
  {
   "cell_type": "code",
   "execution_count": 49,
   "metadata": {},
   "outputs": [
    {
     "name": "stdout",
     "output_type": "stream",
     "text": [
      "24398\n"
     ]
    }
   ],
   "source": [
    "print(len(vectorizer.get_feature_names()))"
   ]
  },
  {
   "cell_type": "code",
   "execution_count": 57,
   "metadata": {},
   "outputs": [
    {
     "data": {
      "text/html": [
       "<div>\n",
       "<style scoped>\n",
       "    .dataframe tbody tr th:only-of-type {\n",
       "        vertical-align: middle;\n",
       "    }\n",
       "\n",
       "    .dataframe tbody tr th {\n",
       "        vertical-align: top;\n",
       "    }\n",
       "\n",
       "    .dataframe thead th {\n",
       "        text-align: right;\n",
       "    }\n",
       "</style>\n",
       "<table border=\"1\" class=\"dataframe\">\n",
       "  <thead>\n",
       "    <tr style=\"text-align: right;\">\n",
       "      <th></th>\n",
       "      <th>y_true</th>\n",
       "      <th>y_pred</th>\n",
       "    </tr>\n",
       "  </thead>\n",
       "  <tbody>\n",
       "    <tr>\n",
       "      <th>0</th>\n",
       "      <td>1</td>\n",
       "      <td>0</td>\n",
       "    </tr>\n",
       "    <tr>\n",
       "      <th>1</th>\n",
       "      <td>1</td>\n",
       "      <td>1</td>\n",
       "    </tr>\n",
       "    <tr>\n",
       "      <th>2</th>\n",
       "      <td>0</td>\n",
       "      <td>0</td>\n",
       "    </tr>\n",
       "    <tr>\n",
       "      <th>3</th>\n",
       "      <td>1</td>\n",
       "      <td>1</td>\n",
       "    </tr>\n",
       "    <tr>\n",
       "      <th>4</th>\n",
       "      <td>1</td>\n",
       "      <td>1</td>\n",
       "    </tr>\n",
       "    <tr>\n",
       "      <th>...</th>\n",
       "      <td>...</td>\n",
       "      <td>...</td>\n",
       "    </tr>\n",
       "    <tr>\n",
       "      <th>4852</th>\n",
       "      <td>1</td>\n",
       "      <td>1</td>\n",
       "    </tr>\n",
       "    <tr>\n",
       "      <th>4853</th>\n",
       "      <td>0</td>\n",
       "      <td>0</td>\n",
       "    </tr>\n",
       "    <tr>\n",
       "      <th>4854</th>\n",
       "      <td>1</td>\n",
       "      <td>1</td>\n",
       "    </tr>\n",
       "    <tr>\n",
       "      <th>4855</th>\n",
       "      <td>0</td>\n",
       "      <td>0</td>\n",
       "    </tr>\n",
       "    <tr>\n",
       "      <th>4856</th>\n",
       "      <td>1</td>\n",
       "      <td>1</td>\n",
       "    </tr>\n",
       "  </tbody>\n",
       "</table>\n",
       "<p>4857 rows × 2 columns</p>\n",
       "</div>"
      ],
      "text/plain": [
       "      y_true  y_pred\n",
       "0          1       0\n",
       "1          1       1\n",
       "2          0       0\n",
       "3          1       1\n",
       "4          1       1\n",
       "...      ...     ...\n",
       "4852       1       1\n",
       "4853       0       0\n",
       "4854       1       1\n",
       "4855       0       0\n",
       "4856       1       1\n",
       "\n",
       "[4857 rows x 2 columns]"
      ]
     },
     "execution_count": 57,
     "metadata": {},
     "output_type": "execute_result"
    }
   ],
   "source": [
    "real_pred = pd.DataFrame({'y_true':y_test_plus, 'y_pred':y_predicted_counts_mnb_plus})\n",
    "real_pred"
   ]
  },
  {
   "cell_type": "code",
   "execution_count": 58,
   "metadata": {},
   "outputs": [],
   "source": [
    "cv_results = cross_val_score(mnb, x_train_plus, y_train_plus, scoring = 'accuracy', cv=5, n_jobs=-1)"
   ]
  },
  {
   "cell_type": "code",
   "execution_count": 59,
   "metadata": {},
   "outputs": [
    {
     "data": {
      "text/plain": [
       "array([0.84199691, 0.85151827, 0.85585586, 0.84890605, 0.84736165])"
      ]
     },
     "execution_count": 59,
     "metadata": {},
     "output_type": "execute_result"
    }
   ],
   "source": [
    "cv_results"
   ]
  },
  {
   "cell_type": "code",
   "execution_count": 61,
   "metadata": {},
   "outputs": [
    {
     "name": "stdout",
     "output_type": "stream",
     "text": [
      "Accuracy achieved: 0.86 %\n"
     ]
    }
   ],
   "source": [
    "print(\"Accuracy achieved: {0} %\".format( round(accuracy_score(real_pred['y_true'],real_pred['y_pred']), 2)))"
   ]
  },
  {
   "cell_type": "code",
   "execution_count": 62,
   "metadata": {},
   "outputs": [
    {
     "name": "stdout",
     "output_type": "stream",
     "text": [
      "              precision    recall  f1-score   support\n",
      "\n",
      "           0       0.89      0.77      0.83      2092\n",
      "           1       0.84      0.92      0.88      2765\n",
      "\n",
      "    accuracy                           0.86      4857\n",
      "   macro avg       0.86      0.85      0.85      4857\n",
      "weighted avg       0.86      0.86      0.86      4857\n",
      "\n"
     ]
    }
   ],
   "source": [
    "print(classification_report(real_pred['y_true'],real_pred['y_pred']))"
   ]
  },
  {
   "cell_type": "code",
   "execution_count": null,
   "metadata": {},
   "outputs": [],
   "source": []
  },
  {
   "cell_type": "code",
   "execution_count": null,
   "metadata": {},
   "outputs": [],
   "source": []
  },
  {
   "cell_type": "code",
   "execution_count": null,
   "metadata": {},
   "outputs": [],
   "source": []
  },
  {
   "cell_type": "code",
   "execution_count": null,
   "metadata": {},
   "outputs": [],
   "source": []
  },
  {
   "cell_type": "code",
   "execution_count": null,
   "metadata": {},
   "outputs": [],
   "source": []
  }
 ],
 "metadata": {
  "kernelspec": {
   "display_name": "Python 3",
   "language": "python",
   "name": "python3"
  },
  "language_info": {
   "codemirror_mode": {
    "name": "ipython",
    "version": 3
   },
   "file_extension": ".py",
   "mimetype": "text/x-python",
   "name": "python",
   "nbconvert_exporter": "python",
   "pygments_lexer": "ipython3",
   "version": "3.8.3rc1"
  }
 },
 "nbformat": 4,
 "nbformat_minor": 4
}
